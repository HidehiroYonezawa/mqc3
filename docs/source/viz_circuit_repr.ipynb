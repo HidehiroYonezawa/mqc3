{
 "cells": [
  {
   "cell_type": "markdown",
   "metadata": {},
   "source": [
    "# Visualizing Circuit Representation"
   ]
  },
  {
   "cell_type": "markdown",
   "metadata": {},
   "source": [
    "The `mqc3.circuit.visualize` module enables you to analyze circuit representations by generating graphical visualizations. It provides the following functions:\n",
    "\n",
    "* `make_figure`: Generates a figure of the circuit representation.\n",
    "* `savefig`: Save the generated figure to a file."
   ]
  },
  {
   "cell_type": "markdown",
   "metadata": {},
   "source": [
    "## Prepare a sample circuit"
   ]
  },
  {
   "cell_type": "code",
   "execution_count": null,
   "metadata": {},
   "outputs": [],
   "source": [
    "from mqc3.circuit import CircuitRepr\n",
    "\n",
    "c = CircuitRepr(\"sample_circuit\")"
   ]
  },
  {
   "cell_type": "code",
   "execution_count": null,
   "metadata": {},
   "outputs": [],
   "source": [
    "from math import pi\n",
    "\n",
    "from mqc3.circuit.ops import intrinsic, std\n",
    "from mqc3.feedforward import feedforward\n",
    "\n",
    "c.Q(0) | intrinsic.PhaseRotation(pi)\n",
    "c.Q(1) | intrinsic.ShearPInvariant(eta=0.1)\n",
    "c.Q(0, 2) | std.BeamSplitter(theta=1, phi=0.1)\n",
    "c.Q(3) | intrinsic.ShearPInvariant(eta=0.1)\n",
    "\n",
    "\n",
    "@feedforward\n",
    "def f(x: float) -> float:\n",
    "    return x + 1\n",
    "\n",
    "\n",
    "x = c.Q(0) | intrinsic.Measurement(theta=0.0)\n",
    "y = c.Q(1) | intrinsic.Measurement(theta=pi)\n",
    "c.Q(2, 3) | intrinsic.TwoModeShear(a=f(x), b=f(y))\n",
    "\n",
    "c.Q(2) | intrinsic.Measurement(theta=0.0)\n",
    "c.Q(3) | intrinsic.Measurement(theta=pi)"
   ]
  },
  {
   "cell_type": "markdown",
   "metadata": {},
   "source": [
    "{py:func}`~mqc3.circuit.visualize.make_figure` function can be used to visualize the circuit representation.\n",
    "\n",
    "The function takes the circuit representation and visualize options as input and returns a {py:class}`matplotlib.figure.Figure` object which can be displayed using {py:func}`matplotlib.pyplot.show()` function."
   ]
  },
  {
   "cell_type": "code",
   "execution_count": null,
   "metadata": {},
   "outputs": [],
   "source": [
    "from mqc3.circuit.visualize import make_figure\n",
    "\n",
    "make_figure(c);"
   ]
  },
  {
   "cell_type": "markdown",
   "metadata": {},
   "source": [
    "{py:func}`~mqc3.circuit.visualize.savefig` function can be used to save the circuit representation as an image file."
   ]
  },
  {
   "cell_type": "code",
   "execution_count": null,
   "metadata": {},
   "outputs": [],
   "source": [
    "from mqc3.circuit.visualize import savefig\n",
    "\n",
    "savefig(c, \"mqc3_circuit_example.png\")"
   ]
  },
  {
   "cell_type": "markdown",
   "metadata": {},
   "source": [
    "## Options"
   ]
  },
  {
   "cell_type": "markdown",
   "metadata": {},
   "source": [
    "You can customize the appearance of the visualized circuit figure by specifying the following options."
   ]
  },
  {
   "cell_type": "markdown",
   "metadata": {},
   "source": [
    "### `show_parameters`\n",
    "\n",
    "The default value is `True`.\n",
    "\n",
    "The `show_parameters` option controls whether the parameters of each operation are displayed.\n",
    "When set to `True`, parameter values are shown next to their corresponding operations in the visualized circuit.\n",
    "\n",
    "### `parameters_fontsize`\n",
    "The default value is `8.0`.\n",
    "\n",
    "\n",
    "The `parameters_fontsize` option specifies the font size used for displaying parameter values.\n",
    "Adjusting this value can improve readability in the visualized circuit."
   ]
  },
  {
   "cell_type": "code",
   "execution_count": null,
   "metadata": {},
   "outputs": [],
   "source": [
    "make_figure(c, show_parameters=True, parameters_fontsize=15.0);"
   ]
  },
  {
   "cell_type": "markdown",
   "metadata": {},
   "source": [
    "### `show_feedforward_param_label`\n",
    "\n",
    "The default value is `True`.\n",
    "\n",
    "The `show_feedforward_param_label` option controls whether parameter values for feedforward operations are displayed in the circuit representation.\n",
    "When set to `True`, these values appear next to their corresponding operations in the visualized circuit.\n",
    "\n",
    "### `feedforward_param_fontsize`\n",
    "\n",
    "The default value is `8.0`.\n",
    "\n",
    "The `feedforward_param_fontsize` option specifies the font size used for displaying parameter values of feedforward operations in the circuit representation.\n",
    "Adjusting this value can improve readability in the visualized circuit."
   ]
  },
  {
   "cell_type": "code",
   "execution_count": null,
   "metadata": {},
   "outputs": [],
   "source": [
    "make_figure(c, show_feedforward_param_label=True, feedforward_param_fontsize=15.0);"
   ]
  },
  {
   "cell_type": "markdown",
   "metadata": {},
   "source": [
    "### `feedforward_arrow_style`\n",
    "\n",
    "The default value is `->`.\n",
    "\n",
    "The `feedforward_arrow_style` option customizes the style of arrows used to indicate feedforward operations.\n",
    "\n",
    "### `feedforward_arrow_color`\n",
    "\n",
    "The default value is `lightgreen`.\n",
    "\n",
    "The `feedforward_arrow_color` option specifies the color of arrows indicating feedforward operations.\n",
    "Colors can be defined in multiple formats, such as `red`, `blue`, or `green`."
   ]
  },
  {
   "cell_type": "code",
   "execution_count": null,
   "metadata": {},
   "outputs": [],
   "source": [
    "make_figure(c, feedforward_arrow_style=\"->\", feedforward_arrow_color=\"red\");"
   ]
  },
  {
   "cell_type": "markdown",
   "metadata": {},
   "source": [
    "### `qumode_labels`\n",
    "\n",
    "The default value is $q_{i}$, where `i` is the mode index.\n",
    "\n",
    "The `qumode_labels` option specifies custom labels for the quantum modes.\n",
    "You can provide a list of strings to use as labels.\n",
    "\n",
    "### `qumode_hline_spacing`\n",
    "\n",
    "The default value is {py:data}`~mqc3.circuit.visualize.DEFAULT_QUMODE_HLINE_SPACING`.\n",
    "\n",
    "The `qumode_hline_spacing` option sets the spacing between horizontal lines separating quantum modes."
   ]
  },
  {
   "cell_type": "code",
   "execution_count": null,
   "metadata": {},
   "outputs": [],
   "source": [
    "make_figure(c, qumode_labels=[\"q0\", \"q1\", \"q2\", \"q3\"], qumode_hline_spacing=2.0);"
   ]
  },
  {
   "cell_type": "markdown",
   "metadata": {},
   "source": [
    "### `intrinsic_operation_name_table`\n",
    "\n",
    "The default value is {py:data}`~mqc3.circuit.visualize.DEFAULT_INTRINSIC_OP_NAME_TABLE`.\n",
    "\n",
    "The `intrinsic_operation_name_table` option customizes the names of intrinsic operations.\n",
    "You can provide a dictionary mapping operation names to their desired display names.\n",
    "\n",
    "### `user_operation_name_table`\n",
    "\n",
    "The default value is {py:data}`~mqc3.circuit.visualize.DEFAULT_USER_OP_NAME_TABLE`.\n",
    "\n",
    "The `user_operation_name_table` option customizes the names of user-defined operations.\n",
    "You can provide a dictionary mapping operation names to their desired display names.\n",
    "\n",
    "### `intrinsic_operation_color_table`\n",
    "\n",
    "The default value is {py:data}`~mqc3.circuit.visualize.DEFAULT_INTRINSIC_OP_COLOR_TABLE`.\n",
    "\n",
    "The `intrinsic_operation_color_table` option customizes the colors of intrinsic operations in the circuit representation.\n",
    "You can provide a dictionary mapping operation names to their desired colors.\n",
    "\n",
    "### `opbox_width`\n",
    "\n",
    "The default value is {py:data}`~mqc3.circuit.visualize.DEFAULT_OPBOX_WIDTH`.\n",
    "\n",
    "The `opbox_width` option sets the width of operation boxes.\n",
    "\n",
    "### `opbox_vertical_margin`\n",
    "\n",
    "The default value is {py:data}`~mqc3.circuit.visualize.DEFAULT_OPBOX_VERTICAL_MARGIN`.\n",
    "\n",
    "The `opbox_vertical_margin` option sets the vertical margin between operation boxes."
   ]
  },
  {
   "cell_type": "markdown",
   "metadata": {},
   "source": [
    "### `show_op_legend`\n",
    "\n",
    "The default value is `False`.\n",
    "\n",
    "The `show_op_legend` option controls whether a legend for intrinsic operations is displayed.\n",
    "When set to `True`, the legend appears at the bottom of the visualized circuit."
   ]
  },
  {
   "cell_type": "code",
   "execution_count": null,
   "metadata": {},
   "outputs": [],
   "source": [
    "from mqc3.circuit.visualize import (\n",
    "    DEFAULT_INTRINSIC_OP_COLOR_TABLE,\n",
    "    DEFAULT_INTRINSIC_OP_NAME_TABLE,\n",
    "    DEFAULT_USER_OP_NAME_TABLE,\n",
    ")\n",
    "\n",
    "intrinsic_names = DEFAULT_INTRINSIC_OP_NAME_TABLE.copy()\n",
    "intrinsic_names[\"PhaseRotation\"] = r\"$Rot$\"\n",
    "user_names = DEFAULT_USER_OP_NAME_TABLE.copy()\n",
    "user_names[\"BeamSplitter\"] = r\"$B$\"\n",
    "intrinsic_colors = DEFAULT_INTRINSIC_OP_COLOR_TABLE.copy()\n",
    "intrinsic_colors[\"PhaseRotation\"] = \"lightblue\"\n",
    "\n",
    "make_figure(\n",
    "    c,\n",
    "    intrinsic_operation_name_table=intrinsic_names,\n",
    "    user_operation_name_table=user_names,\n",
    "    intrinsic_operation_color_table=intrinsic_colors,\n",
    "    opbox_vertical_margin=0.5,\n",
    "    opbox_width=1.2,\n",
    "    show_op_legend=True,\n",
    ");"
   ]
  }
 ],
 "metadata": {},
 "nbformat": 4,
 "nbformat_minor": 2
}
