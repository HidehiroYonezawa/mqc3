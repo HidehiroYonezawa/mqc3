{
 "cells": [
  {
   "cell_type": "markdown",
   "metadata": {},
   "source": [
    "# Executing Circuit\n",
    "\n",
    "In this section, we will explain how to execute quantum circuits on the optical quantum computer of MQC3.\n",
    "\n",
    "## Executing circuit representation\n",
    "\n",
    "First, we create the circuit below.\n",
    "\n",
    "![circuit](_images/circuit_repr_sample_circuit.svg)"
   ]
  },
  {
   "cell_type": "code",
   "execution_count": null,
   "metadata": {},
   "outputs": [],
   "source": [
    "from math import pi\n",
    "\n",
    "from mqc3.circuit import CircuitRepr\n",
    "from mqc3.circuit.ops.intrinsic import ControlledZ, Displacement, Measurement, PhaseRotation\n",
    "\n",
    "circuit = CircuitRepr(\"circuit\")\n",
    "circuit.Q(0) | PhaseRotation(phi=pi / 4) | Displacement(1, -1)\n",
    "circuit.Q(0, 1) | ControlledZ(g=1)\n",
    "circuit.Q(0) | Measurement(theta=0)\n",
    "circuit.Q(1) | Measurement(theta=pi / 2)\n",
    "\n",
    "circuit"
   ]
  },
  {
   "cell_type": "markdown",
   "metadata": {},
   "source": [
    "### Configuring client\n",
    "\n",
    "To execute a circuit from MQC3 SDK, you must create a {py:class}`~.mqc3.client.MQC3Client`, which specifies the connection point, API token, and execution parameters.\n",
    "Let's create {py:class}`~.mqc3.client.MQC3Client` as follows."
   ]
  },
  {
   "cell_type": "code",
   "execution_count": null,
   "metadata": {},
   "outputs": [],
   "source": [
    "from mqc3.client import MQC3Client\n",
    "\n",
    "client = MQC3Client()"
   ]
  },
  {
   "cell_type": "markdown",
   "metadata": {},
   "source": [
    "You must set your API token in the `token` attribute."
   ]
  },
  {
   "cell_type": "code",
   "execution_count": null,
   "metadata": {},
   "outputs": [],
   "source": [
    "# client.token = \"YOUR_API_TOKEN\""
   ]
  },
  {
   "cell_type": "markdown",
   "metadata": {},
   "source": [
    "You can execute a circuit on either the optical quantum computer or an emulator by setting the `backend` attribute.\n",
    "When the `backend` is set to`\"qpu\"`, the circuit is executed on the optical quantum computer,\n",
    "and when the `backend` is set to `\"emulator\"`, it is executed on the emulator."
   ]
  },
  {
   "cell_type": "code",
   "execution_count": null,
   "metadata": {},
   "outputs": [],
   "source": [
    "# client.backend = \"qpu\"\n",
    "client.backend = \"emulator\""
   ]
  },
  {
   "cell_type": "markdown",
   "metadata": {},
   "source": [
    "You can specify how many times the circuit will be executed by setting the `n_shots` attribute."
   ]
  },
  {
   "cell_type": "code",
   "execution_count": null,
   "metadata": {},
   "outputs": [],
   "source": [
    "# Run the circuit for hundred times\n",
    "client.n_shots = 100"
   ]
  },
  {
   "cell_type": "markdown",
   "metadata": {},
   "source": [
    "### Executing circuit \n",
    "\n",
    "You can execute the circuit with {py:func}`~mqc3.execute.execute`.\n",
    "This function takes a circuit and a client as arguments and returns the execution result."
   ]
  },
  {
   "cell_type": "code",
   "execution_count": null,
   "metadata": {},
   "outputs": [],
   "source": [
    "from mqc3.execute import execute\n",
    "\n",
    "circuit_result = execute(circuit, client)"
   ]
  },
  {
   "cell_type": "code",
   "execution_count": null,
   "metadata": {},
   "outputs": [],
   "source": [
    "type(circuit_result)"
   ]
  },
  {
   "cell_type": "markdown",
   "metadata": {},
   "source": [
    "{py:class}`~mqc3.execute.ExecutionResult` has the following attributes.\n",
    "\n",
    "| Attribute | Type | Description |\n",
    "| --------- | ---- | ----------- |\n",
    "| {py:attr}`~mqc3.execute.ExecutionResult.total_time`         | `timedelta` | The total time to execute a representation. |\n",
    "| {py:attr}`~mqc3.execute.ExecutionResult.execution_time`     | `timedelta` |The time to execute a representation. |\n",
    "| {py:attr}`~mqc3.execute.ExecutionResult.input_repr`         | {py:class}`~mqc3.circuit.CircuitRepr`, {py:class}`~mqc3.graph.GraphRepr` or {py:class}`~mqc3.machinery.MachineryRepr` | Executed representation.  |\n",
    "| {py:attr}`~mqc3.execute.ExecutionResult.execution_result`   | {py:class}`~mqc3.circuit.CircuitResult`, {py:class}`~mqc3.graph.GraphResult` or {py:class}`~mqc3.machinery.MachineryResult` |Execution result. |\n",
    "| {py:attr}`~mqc3.execute.ExecutionResult.client_result`      | {py:class}`~mqc3.client.abstract.AbstractClientResult` | Inherent result property for each client. |\n",
    "| {py:attr}`~mqc3.execute.ExecutionResult.n_shots`            | `int` | The number of shots. |"
   ]
  },
  {
   "cell_type": "code",
   "execution_count": null,
   "metadata": {},
   "outputs": [],
   "source": [
    "from pprint import pprint\n",
    "\n",
    "pprint(circuit_result)"
   ]
  },
  {
   "cell_type": "markdown",
   "metadata": {},
   "source": [
    "When you use a {py:class}`~.mqc3.client.MQC3Client`, {py:attr}`~mqc3.execute.ExecutionResult.client_result` is {py:class}`~mqc3.client.MQC3ClientResult`."
   ]
  },
  {
   "cell_type": "code",
   "execution_count": null,
   "metadata": {},
   "outputs": [],
   "source": [
    "type(circuit_result.client_result)"
   ]
  },
  {
   "cell_type": "markdown",
   "metadata": {},
   "source": [
    "{py:class}`~mqc3.client.MQC3ClientResult` has the following attributes.\n",
    "\n",
    "| Attribute | Type | Description |\n",
    "| --------- | ---- | ----------- |\n",
    "| {py:attr}`~mqc3.client.MQC3ClientResult.execution_details` | {py:class}`~mqc3.client.mqc3_client.ExecutionDetails` | Versions and timestamps related to a job execution. |\n",
    "| {py:attr}`~mqc3.client.MQC3ClientResult.circuit_result`    | {py:class}`~mqc3.circuit.CircuitResult` or None | Measurement results of a circuit representation. |\n",
    "| {py:attr}`~mqc3.client.MQC3ClientResult.graph_result`      | {py:class}`~mqc3.graph.GraphResult` or None | Measurement results of a compiled graph representation. |\n",
    "| {py:attr}`~mqc3.client.MQC3ClientResult.machinery_result`  | {py:class}`~mqc3.machinery.MachineryResult` | Measurement results of a machinery representation. |\n",
    "| {py:attr}`~mqc3.client.MQC3ClientResult.compiled_graph`    | {py:class}`~mqc3.graph.GraphRepr` or None | A compiled graph representation. If {py:class}`~mqc3.graph.GraphRepr` is input, this represents the graph with `n_local_macronodes` set to 101 for machinery execution. If {py:class}`~mqc3.circuit.CircuitRepr` is input, this is the compiled graph of the {py:class}`~mqc3.graph.GraphRepr` converted from the circuit. |\n",
    "| {py:attr}`~mqc3.client.MQC3ClientResult.compiled_machinery` | {py:class}`~mqc3.machinery.MachineryRepr` | A compiled machinery representation. If  {py:class}`~mqc3.machinery.MachineryRepr` is input, this is the input itself. Otherwise, this is the result of converting the {py:attr}`~mqc3.client.MQC3ClientResult.compiled_graph` into a {py:class}`~mqc3.machinery.MachineryRepr`. |\n",
    "| {py:attr}`~mqc3.client.MQC3ClientResult.execution_result` | {py:class}`~mqc3.circuit.CircuitResult`, {py:class}`~mqc3.graph.GraphResult` or {py:class}`~mqc3.machinery.MachineryResult` | Execution result. |\n",
    "| {py:attr}`~mqc3.client.MQC3ClientResult.wait_time` | `timedelta` or None | The waiting time until the job starts to run. |\n",
    "| {py:attr}`~mqc3.client.MQC3ClientResult.compile_time` | `timedelta` or None | The time that a representation is compiled. |\n",
    "| {py:attr}`~mqc3.client.MQC3ClientResult.execution_time`  | `timedelta` or None | The time to execute a representation. |\n",
    "| {py:attr}`~mqc3.client.MQC3ClientResult.total_time`  | `timedelta` or None | The total time to execute a representation. |\n",
    "| {py:attr}`~mqc3.client.MQC3ClientResult.n_shots`   | `int` | The number of shots. |"
   ]
  },
  {
   "cell_type": "markdown",
   "metadata": {},
   "source": [
    "When you execute the circuit representation, you can get the result of the circuit representation for any shot by using index access."
   ]
  },
  {
   "cell_type": "code",
   "execution_count": null,
   "metadata": {},
   "outputs": [],
   "source": [
    "pprint(circuit_result[0])  # Get the 0-th shot result"
   ]
  },
  {
   "cell_type": "code",
   "execution_count": null,
   "metadata": {},
   "outputs": [],
   "source": [
    "pprint(circuit_result[1])  # Get the 1-st shot result"
   ]
  },
  {
   "cell_type": "markdown",
   "metadata": {},
   "source": [
    "The `index` parameter of each {py:class}`~mqc3.circuit.result.CircuitOperationMeasuredValue` object represents the mode index."
   ]
  },
  {
   "cell_type": "markdown",
   "metadata": {},
   "source": [
    "(sec:execute-graph-repr)=\n",
    "\n",
    "## Executing graph representation\n",
    "\n",
    "To show an example of executing graph representations, we will use the `compiled_graph` attribute of `circuit_result`. {py:func}`~mqc3.execute.execute` can be used with the graph representation in the same way as with the circuit representation.\n",
    "\n",
    "```{note}\n",
    "`compiled_graph` is used to simplify the example by omitting the process of constructing the graph representation. In practice, users typically construct graph representations themselves.\n",
    "\n",
    "In the present example, since the circuit representation was executed before, the result of the graph representation, which has been converted to the circuit representation result, is already available as the `graph_result` attribute. Therefore, executing the following code is, in fact, unnecessary.\n",
    "```"
   ]
  },
  {
   "cell_type": "code",
   "execution_count": null,
   "metadata": {},
   "outputs": [],
   "source": [
    "from mqc3.client import MQC3ClientResult\n",
    "\n",
    "assert isinstance(circuit_result.client_result, MQC3ClientResult)\n",
    "assert circuit_result.client_result.compiled_graph is not None\n",
    "graph_result = execute(circuit_result.client_result.compiled_graph, client)\n",
    "\n",
    "pprint(graph_result)"
   ]
  },
  {
   "cell_type": "markdown",
   "metadata": {},
   "source": [
    "Since you execute the graph representation, `circuit_result` is ``None``.\n",
    "\n",
    "When you execute the graph representation, you can get the result of the graph representation for any shot by using index access."
   ]
  },
  {
   "cell_type": "code",
   "execution_count": null,
   "metadata": {},
   "outputs": [],
   "source": [
    "print(graph_result[0])  # Get the 0-th shot result"
   ]
  },
  {
   "cell_type": "markdown",
   "metadata": {},
   "source": [
    "## Executing machinery representation\n",
    "\n",
    "To show an example of executing a machinery representation, we will use the `compiled_machinery` attribute of `circuit_result`. {py:func}`~mqc3.execute.execute` can be used with the machinery representation in the same way as with the circuit representation.\n",
    "\n",
    "```{note}\n",
    "When executing a machinery representation, `n_local_macronodes` must be set to 101; otherwise, an error is raised.\n",
    "```\n",
    "\n",
    "```{note}\n",
    "Similarly to what was noted in {ref}`sec:execute-graph-repr`, the following code can also be replaced by accessing `circuit_result.machinery_result`.\n",
    "```"
   ]
  },
  {
   "cell_type": "code",
   "execution_count": null,
   "metadata": {},
   "outputs": [],
   "source": [
    "assert isinstance(circuit_result.client_result, MQC3ClientResult)\n",
    "assert circuit_result.client_result.compiled_machinery is not None\n",
    "machinery_result = execute(circuit_result.client_result.compiled_machinery, client)\n",
    "\n",
    "pprint(machinery_result)"
   ]
  },
  {
   "cell_type": "markdown",
   "metadata": {},
   "source": [
    "Since you execute the machinery representation, three attributes (`circuit_result`, `compiled_graph`, and `graph_result`) are ``None``.\n",
    "\n",
    "When you execute the machinery representation, you can get the result of the machinery representation for any shot by using index access."
   ]
  },
  {
   "cell_type": "code",
   "execution_count": null,
   "metadata": {},
   "outputs": [],
   "source": [
    "print(machinery_result[0])  # Get the 0-th shot result"
   ]
  },
  {
   "cell_type": "markdown",
   "metadata": {},
   "source": [
    "(sec:execution-resource-and-initialized-states)=\n",
    "\n",
    "## Resource and initialized states\n",
    "\n",
    "The current MQC3 only utilizes squeezed states as resources, as described in {ref}`sec:machinery`.\n",
    "These are used for the mode initialization, as explained in {ref}`sec:measurement-and-initialization`, and the initialized modes are also squeezed states.\n",
    "The following table presents the parameters of the resource modes and initialized modes for two backends, qpu and emulator.\n",
    "\n",
    "<style>\n",
    ".scroll-table {\n",
    "    overflow-x: auto;\n",
    "}\n",
    "table {\n",
    "    border-collapse: collapse;\n",
    "}\n",
    "td, th {\n",
    "    border: 1px solid gray;\n",
    "    padding: 8px;\n",
    "}\n",
    "</style>\n",
    "\n",
    "<div class=\"scroll-table\">\n",
    "<table>\n",
    "<tr>\n",
    "<td rowspan=\"2\" align=\"center\">Representation</td>\n",
    "<td rowspan=\"2\" align=\"center\">Parameter</td>\n",
    "<td colspan=\"2\" align=\"center\">qpu</td>\n",
    "<td colspan=\"2\" align=\"center\">emulator</td>\n",
    "</tr>\n",
    "<tr>\n",
    "<td align=\"center\">Resource</td>\n",
    "<td align=\"center\">Initialized</td>\n",
    "<td align=\"center\">Resource</td>\n",
    "<td align=\"center\">Initialized</td>\n",
    "</tr>\n",
    "<tr>\n",
    "<td rowspan=\"3\" align=\"center\">Circuit</td>\n",
    "<td align=\"center\">Squeezing level</td>\n",
    "<td rowspan=\"3\" align=\"center\">(there is no concept of resource)</td>\n",
    "<td align=\"center\">\n",
    "\n",
    "$(5-10\\log_{10} 2)$ dB (theoretical, approx.)</td>\n",
    "<td rowspan=\"3\" align=\"center\">(there is no concept of resource)</td>\n",
    "<td align=\"center\">\n",
    "\n",
    "$(5-10\\log_{10} 2)$ dB (approx.)</td>\n",
    "</tr>\n",
    "<tr>\n",
    "<td align=\"center\">Anti-squeezing level</td>\n",
    "<td align=\"center\">\n",
    "\n",
    "$(10-10\\log_{10} 2)$ dB (theoretical, approx.)</td>\n",
    "<td align=\"center\">\n",
    "\n",
    "$(10-10\\log_{10} 2)$ dB (approx.)</td>\n",
    "</tr>\n",
    "<tr>\n",
    "<td align=\"center\">Squeezing angle</td>\n",
    "<td align=\"center\">\n",
    "\n",
    "parameter {math}`\\phi` of {py:class}`~mqc3.circuit.state.HardwareConstrainedSqueezedState`</td>\n",
    "</td>\n",
    "<td align=\"center\">\n",
    "\n",
    "parameter {math}`\\phi` of {py:class}`~mqc3.circuit.state.HardwareConstrainedSqueezedState`</td>\n",
    "</td>\n",
    "</tr>\n",
    "<tr>\n",
    "<td rowspan=\"3\" align=\"center\">Graph</td>\n",
    "<td align=\"center\">Squeezing level</td>\n",
    "<td align=\"center\">5 dB (theoretical)</td>\n",
    "<td align=\"center\">\n",
    "\n",
    "$(5-10\\log_{10} 2)$ dB (theoretical, approx.)</td>\n",
    "<td align=\"center\">5 dB</td>\n",
    "<td align=\"center\">\n",
    "\n",
    "$(5-10\\log_{10} 2)$ dB (approx.)</td>\n",
    "</tr>\n",
    "<tr>\n",
    "<td align=\"center\">Anti-squeezing level</td>\n",
    "<td align=\"center\">10 dB (theoretical)</td>\n",
    "<td align=\"center\">\n",
    "\n",
    "$(10-10\\log_{10} 2)$ dB (theoretical, approx.)</td>\n",
    "<td align=\"center\">10 dB</td>\n",
    "<td align=\"center\">\n",
    "\n",
    "$(10-10\\log_{10} 2)$ dB (approx.)</td>\n",
    "</tr>\n",
    "<tr>\n",
    "<td align=\"center\">Squeezing angle</td>\n",
    "<td align=\"center\">0</td>\n",
    "<td align=\"center\">\n",
    "\n",
    "$\\theta+\\pi/2$, where $\\theta$ is the parameter of {py:class}`~mqc3.graph.ops.Initialization`\n",
    "</td>\n",
    "<td align=\"center\">0</td>\n",
    "<td align=\"center\">\n",
    "\n",
    "$\\theta+\\pi/2$, where $\\theta$ is the parameter of {py:class}`~mqc3.graph.ops.Initialization`\n",
    "</td>\n",
    "</tr>\n",
    "<tr>\n",
    "<td rowspan=\"3\" align=\"center\">Machinery</td>\n",
    "<td align=\"center\">Squeezing level</td>\n",
    "<td align=\"center\">5 dB (theoretical)</td>\n",
    "<td></td>\n",
    "<td align=\"center\">5 dB</td>\n",
    "<td></td>\n",
    "</tr>\n",
    "<tr>\n",
    "<td align=\"center\">Anti-squeezing level</td>\n",
    "<td align=\"center\">10 dB (theoretical)</td>\n",
    "<td></td>\n",
    "<td align=\"center\">10 dB</td>\n",
    "<td></td>\n",
    "</tr>\n",
    "<tr>\n",
    "<td align=\"center\">Squeezing angle</td>\n",
    "<td align=\"center\">0</td>\n",
    "<td></td>\n",
    "<td align=\"center\">0</td>\n",
    "<td></td>\n",
    "</tr>\n",
    "</table>\n",
    "</div>\n",
    "\n",
    "```{seealso}\n",
    "See {ref}`sec:squeezing-level-and-squeezing-angle` for the definitions of squeezing level and squeezing angle.\n",
    "```\n",
    "\n",
    "At the bottom of the table, the parameters of a resource mode in the machinery are listed.\n",
    "This is not a pure state, as indicated by the fact that the squeezing level and anti-squeezing level do not match.\n",
    "This occurs due to optical loss and noise arising from finite squeezing.\n",
    "As described in {ref}`sec:measurement-and-initialization`, the mode initialization can be performed in the machinery representation; however, this is just one of the operations that can be realized through homodyne angle configuration, so in the machinery representation, the state after initialization is not specially emphasized.\n",
    "\n",
    "In the graph representation, the resource mode serves as a state prior to initialization.\n",
    "Once initialized, the mode becomes manageable through the operations defined within the graph representation.\n",
    "Parameters listed under the \"Initialized\" column correspond to those of the mode after initialization.\n",
    "The user can control only the squeezing angle via the `theta` parameter of the {py:class}`mqc3.graph.ops.Initialization` operation.\n",
    "\n",
    "In the circuit representation, the user considers only the modes after initialization and can specify the squeezing angle through the parameter of {py:class}`~mqc3.circuit.state.HardwareConstrainedSqueezedState`."
   ]
  }
 ],
 "metadata": {},
 "nbformat": 4,
 "nbformat_minor": 2
}
