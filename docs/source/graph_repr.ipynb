{
 "cells": [
  {
   "cell_type": "markdown",
   "metadata": {},
   "source": [
    "# Constructing Graph Representation\n",
    "\n",
    "In this section, we will explain how to construct quantum circuits with the \"Graph Representation\".\n",
    "We recommend reading [Theory](theory.md) before reading this document."
   ]
  },
  {
   "cell_type": "markdown",
   "metadata": {},
   "source": [
    "## Creating a graph representation\n",
    "\n",
    "Constructing a quantum circuit in graph representation starts with creating an instance of the {py:class}`~mqc3.graph.GraphRepr`.\n",
    "Graph representation is created by specifying the following three parameters.\n",
    "\n",
    "* `n_local_macronodes` : the number of macronodes per step\n",
    "* `n_steps` : the number of steps\n",
    "\n",
    "For example, graph representation with `n_local_macronodes=3` and `n_steps=4` can be created as follows.\n",
    "Every macronode is initialized with an operation {py:class}`~mqc.graph.Wiring` which is configured to pass through each mode straightforward."
   ]
  },
  {
   "cell_type": "code",
   "execution_count": null,
   "metadata": {},
   "outputs": [],
   "source": [
    "from mqc3.graph import GraphRepr\n",
    "\n",
    "g = GraphRepr(3, 4)"
   ]
  },
  {
   "cell_type": "markdown",
   "metadata": {},
   "source": [
    "You can visualize graph representation using {py:func}`~mqc3.graph.visualize.make_figure`.\n",
    "See [Visualizing Graph Representation](viz_graph_repr.ipynb) for detailed usage of {py:func}`~mqc3.graph.visualize.make_figure`."
   ]
  },
  {
   "cell_type": "code",
   "execution_count": null,
   "metadata": {},
   "outputs": [],
   "source": [
    "from mqc3.graph.visualize import make_figure\n",
    "\n",
    "make_figure(g);"
   ]
  },
  {
   "cell_type": "markdown",
   "metadata": {},
   "source": [
    "All macronodes are assigned coordinates and indices, as shown in the image below.\n",
    "The top-left macronode is located at coordinates `(0, 0)`, while the bottom-right macronode is located at `(n_local_macronodes - 1, n_steps - 1)`.\n",
    "To get a macronode's coordinate, call {py:meth}`~mqc3.graph.GraphRepr.get_coord` with its index `i`.\n",
    "To find the index of a macronode at a given coordinate `(h, w)`, use {py:meth}`~mqc3.graph.GraphRepr.get_index`.\n",
    "The edge from the bottom-most macronode to the top-most macronode is not a special edge.\n",
    "Let `N` be the number of local macronodes and `M` be the number of steps.\n",
    "Macronode `k` has an edge to the macronode `k + 1` and `k + N`.\n",
    "When this directed graph is written in two dimensions, the edge from macronode `i * N - 1` to macronode `i * N` (`i = 0, 1, ..., M - 2`) is an edge from the bottom to the top.\n",
    "\n",
    "<img src=\"_images/graph_repr_coord.png\" width=500px>"
   ]
  },
  {
   "cell_type": "code",
   "execution_count": null,
   "metadata": {},
   "outputs": [],
   "source": [
    "print(g.get_coord(0))\n",
    "print(g.get_coord(11))\n",
    "print(g.get_index(0, 0))\n",
    "print(g.get_index(2, 3))"
   ]
  },
  {
   "cell_type": "markdown",
   "metadata": {},
   "source": [
    "## Placing operations\n",
    "\n",
    "You can place operations using the {py:meth}`~mqc3.graph.GraphRepr.place_operation`.\n",
    "Graph operations are defined in {py:mod}`mqc3.graph.ops`.\n",
    "See [Gates](gates.md) for the documentation.\n",
    "In the graph representation, displacement is not a standalone operation, but it can be associated with any operation and applied to the output modes.\n",
    "The displacement of a mode teleporting to the macronode `k` from the macronode `k - 1` can be specified by `dislacement_k_minus_1` argument in the operation's constructor.\n",
    "Similary, the displacement of a mode teleporting to the macronode `k` from the macronode `k - n_local_macrondoes` can be specified by `dislacement_k_minus_n` argument in the operation's constructor.\n",
    "\n",
    "When applying an operation on a mode, you first need to initialize the mode with the {py:class}`~mqc3.graph.ops.Initialization`."
   ]
  },
  {
   "cell_type": "code",
   "execution_count": null,
   "metadata": {},
   "outputs": [],
   "source": [
    "from mqc3.graph.constant import BLANK_MODE\n",
    "from mqc3.graph.ops import Initialization\n",
    "\n",
    "g = GraphRepr(1, 2)\n",
    "# initialized_modes=(BLANK_MODE, 0) means that the mode teleporting to the macronode `k + 1` is `BLANK_MODE`,\n",
    "# and the mode teleporting to the macronode `k + N` is mode `0`.\n",
    "# `BLANK_MODE` means that this mode is not the target of any operations.\n",
    "g.place_operation(Initialization(macronode=(0, 0), theta=0, initialized_modes=(BLANK_MODE, 0)))\n",
    "make_figure(g);"
   ]
  },
  {
   "cell_type": "markdown",
   "metadata": {},
   "source": [
    "The circuit below can be implemented as follows:\n",
    "\n",
    "![graph_repr_example](_images/graph_repr_example.svg)"
   ]
  },
  {
   "cell_type": "code",
   "execution_count": null,
   "metadata": {},
   "outputs": [],
   "source": [
    "from numpy import pi\n",
    "\n",
    "from mqc3.graph.ops import Initialization, Measurement, PhaseRotation\n",
    "\n",
    "g1 = GraphRepr(1, 3)\n",
    "\n",
    "# Displacement is specified by `displacement_k_minus_n`.\n",
    "g1.place_operation(Initialization(macronode=(0, 0), theta=0, initialized_modes=(BLANK_MODE, 0)))\n",
    "g1.place_operation(PhaseRotation(macronode=(0, 1), phi=pi / 4, swap=False, displacement_k_minus_n=(-1, 0)))\n",
    "g1.place_operation(Measurement(macronode=(0, 2), theta=pi / 2, displacement_k_minus_n=(0, 1)))\n",
    "\n",
    "make_figure(g1, scale=4.0);"
   ]
  },
  {
   "cell_type": "markdown",
   "metadata": {},
   "source": [
    "A graph representation allows an equivalent circuit to be implemented in multiple ways.\n",
    "For example, the circuit from earlier can be implemented as follows."
   ]
  },
  {
   "cell_type": "code",
   "execution_count": null,
   "metadata": {},
   "outputs": [],
   "source": [
    "from numpy import pi\n",
    "\n",
    "from mqc3.graph import Wiring\n",
    "from mqc3.graph.ops import Initialization, Measurement, PhaseRotation\n",
    "\n",
    "g2 = GraphRepr(2, 3)\n",
    "\n",
    "g2.place_operation(Initialization(macronode=(0, 0), theta=0, initialized_modes=(BLANK_MODE, 0)))\n",
    "g2.place_operation(PhaseRotation(macronode=(0, 1), phi=pi / 4, swap=True, displacement_k_minus_n=(-1, 0)))\n",
    "g2.place_operation(Wiring(macronode=(1, 1), swap=True, displacement_k_minus_1=(0, 1)))\n",
    "g2.place_operation(Measurement(macronode=(1, 2), theta=pi / 2))\n",
    "\n",
    "make_figure(g2, scale=4.0);"
   ]
  },
  {
   "cell_type": "markdown",
   "metadata": {},
   "source": [
    "The equivalence of the two graph representations `g1` and `g2`  can be confirmed by the fact that the lists of operations applied to the mode are identical."
   ]
  },
  {
   "cell_type": "code",
   "execution_count": null,
   "metadata": {},
   "outputs": [],
   "source": [
    "print(g1.calc_mode_operations(0))\n",
    "print(g2.calc_mode_operations(0))"
   ]
  },
  {
   "cell_type": "markdown",
   "metadata": {},
   "source": [
    "### Adding Feedforward\n",
    "\n",
    "In the graph representation, feedforward allows the parameters of certain operations or displacements to be updated based on the measurement result of another mode.\n",
    "To begin, we create the graph representation of the following two-mode system:\n"
   ]
  },
  {
   "cell_type": "code",
   "execution_count": null,
   "metadata": {},
   "outputs": [],
   "source": [
    "from numpy import pi\n",
    "\n",
    "from mqc3.graph.ops import ControlledZ, Measurement, PhaseRotation\n",
    "\n",
    "g = GraphRepr(3, 5)\n",
    "\n",
    "g.place_operation(Initialization((1, 0), 0.0, (BLANK_MODE, 0)))\n",
    "g.place_operation(PhaseRotation((1, 1), pi / 2, swap=False, displacement_k_minus_n=(1, -1)))\n",
    "g.place_operation(Initialization((0, 2), 0.0, (1, BLANK_MODE)))\n",
    "g.place_operation(ControlledZ((1, 2), 1, swap=True))\n",
    "g.place_operation(Measurement((2, 2), 0))\n",
    "g.place_operation(Measurement((1, 4), pi / 2))\n",
    "\n",
    "# Check the operations applied to each mode\n",
    "print(g.calc_mode_operations(0))\n",
    "print(g.calc_mode_operations(1))\n",
    "\n",
    "make_figure(g);"
   ]
  },
  {
   "cell_type": "markdown",
   "metadata": {},
   "source": [
    "Suppose that a `PhaseRotation` and a displacement are applied to mode 1, depending on the measurement result of mode 0.\n",
    "The following code adds feedforward to the graph representation accordingly:"
   ]
  },
  {
   "cell_type": "code",
   "execution_count": null,
   "metadata": {},
   "outputs": [],
   "source": [
    "from mqc3.feedforward import feedforward\n",
    "\n",
    "\n",
    "@feedforward\n",
    "def f1(x: float) -> float:\n",
    "    return x * x\n",
    "\n",
    "\n",
    "@feedforward\n",
    "def f2(x: float) -> float:\n",
    "    return x * x * x\n",
    "\n",
    "\n",
    "x = g.get_mode_measured_value(0)\n",
    "g.place_operation(PhaseRotation((1, 3), f1(x), swap=False, displacement_k_minus_n=(f1(x), f2(x))))\n",
    "\n",
    "make_figure(g);"
   ]
  },
  {
   "cell_type": "markdown",
   "metadata": {},
   "source": [
    "## Converting circuit representation to graph representation\n",
    "\n",
    "![sample circuit](_images/circuit_repr_sample_circuit.svg)\n",
    "\n",
    "Convert the above circuit representation to a graph representation.\n",
    "This can be achieved as follows:\n",
    "\n",
    "* Place operations that initialize the modes.\n",
    "* Place each operation, excluding the displacements, on the macronodes\n",
    "* Displace the modes that are teleporting"
   ]
  },
  {
   "cell_type": "code",
   "execution_count": null,
   "metadata": {},
   "outputs": [],
   "source": [
    "from numpy import pi\n",
    "\n",
    "from mqc3.graph.ops import ControlledZ, Measurement, PhaseRotation\n",
    "\n",
    "g = GraphRepr(3, 4)\n",
    "\n",
    "g.place_operation(Initialization((1, 0), 0.0, (BLANK_MODE, 0)))\n",
    "g.place_operation(PhaseRotation((1, 1), pi / 2, swap=False, displacement_k_minus_n=(1, -1)))\n",
    "g.place_operation(Initialization((0, 2), 0.0, (1, BLANK_MODE)))\n",
    "g.place_operation(ControlledZ((1, 2), 1, swap=True))\n",
    "g.place_operation(Measurement((1, 3), pi / 2))\n",
    "g.place_operation(Measurement((2, 2), 0))\n",
    "\n",
    "# Check the operations applied to each mode\n",
    "print(g.calc_mode_operations(0))\n",
    "print(g.calc_mode_operations(1))"
   ]
  },
  {
   "cell_type": "code",
   "execution_count": null,
   "metadata": {},
   "outputs": [],
   "source": [
    "make_figure(g, show_displacement=True);"
   ]
  },
  {
   "cell_type": "markdown",
   "metadata": {},
   "source": [
    "MQC3 provides a class for converting circuit representation to graph representation in the {py:mod}`mqc3.graph.embed`.\n",
    "In the {py:mod}`mqc3.graph.embed`, the following two conversion classes are defined.\n",
    "\n",
    "* {py:class}`~mqc3.graph.embed.GreedyConverter` : Convert circuits using greedy algorithm. This algorithm runs very quickly but tends to use a large number of macronodes.\n",
    "* {py:class}`~mqc3.graph.embed.BeamSearchConverter` : Convert circuits using beam search algorithm. This algorithm runs quickly and uses fewer macronodes.\n",
    "\n",
    "By using these classes, you can implement the conversion as follows:"
   ]
  },
  {
   "cell_type": "code",
   "execution_count": null,
   "metadata": {},
   "outputs": [],
   "source": [
    "from numpy import pi\n",
    "\n",
    "from mqc3.circuit import CircuitRepr\n",
    "from mqc3.circuit.ops.intrinsic import ControlledZ, Displacement, Measurement, PhaseRotation\n",
    "\n",
    "c = CircuitRepr(\"multiple_gates\")\n",
    "c.Q(0) | PhaseRotation(phi=pi / 4) | Displacement(1, -1)\n",
    "c.Q(0, 1) | ControlledZ(g=1)\n",
    "c.Q(0) | Measurement(theta=0)\n",
    "c.Q(1) | Measurement(theta=pi / 2)\n",
    "\n",
    "c"
   ]
  },
  {
   "cell_type": "code",
   "execution_count": null,
   "metadata": {},
   "outputs": [],
   "source": [
    "from mqc3.graph.convert import BeamSearchConverter, BeamSearchConvertSettings\n",
    "\n",
    "g = BeamSearchConverter(BeamSearchConvertSettings(n_local_macronodes=3, beam_width=10)).convert(c)\n",
    "\n",
    "# Check the operations applied to each mode\n",
    "print(g.calc_mode_operations(0))\n",
    "print(g.calc_mode_operations(1))"
   ]
  },
  {
   "cell_type": "code",
   "execution_count": null,
   "metadata": {},
   "outputs": [],
   "source": [
    "make_figure(g);"
   ]
  },
  {
   "cell_type": "markdown",
   "metadata": {},
   "source": [
    "## Initial states\n",
    "\n",
    "The {py:class}`~mqc3.client.MQC3Client` or the {py:class}`~mqc3.client.SimulatorClient` executes quantum circuits.\n",
    "The initial states are squeezed states, where the squeezing level depends on the execution backend and is not configurable by users.\n",
    "When initialized by the {py:class}`mqc3.graph.ops.Initialization` operation, the squeezing angle can be configured using the operation's parameter `theta`.\n",
    "\n",
    "```{seealso}\n",
    "See {ref}`this section<sec:execution-resource-and-initialized-states>` (for {py:class}`~mqc3.client.MQC3Client` execution) and {ref}`this section<sec:simulation-resource-and-initialized-states>` (for {py:class}`~mqc3.client.SimulatorClient` execution) for initial state details.\n",
    "```"
   ]
  }
 ],
 "metadata": {},
 "nbformat": 4,
 "nbformat_minor": 2
}
