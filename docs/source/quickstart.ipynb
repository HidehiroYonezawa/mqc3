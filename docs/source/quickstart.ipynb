{
 "cells": [
  {
   "cell_type": "markdown",
   "metadata": {},
   "source": [
    "# Quickstart\n",
    "\n",
    "This section explains how to use MQC3 through the example code.\n",
    "\n",
    "## Three representations of quantum circuits\n",
    "\n",
    "Before diving into the example code, we first introduce the three different representations of quantum circuits in MQC3: **circuit representation**, **graph representation**, and **machinery representation**.\n",
    "To execute an optical quantum computing using MQC3, you need to create a machinery representation of the quantum circuit.\n",
    "If you start with a circuit representation, MQC3 will automatically convert it to a graph representation, and then further transform it into a machinery representation.\n",
    "\n",
    "| Representation           | Brief Description |\n",
    "| -----------------------  | ----------------- |\n",
    "| Circuit representation   | A standard continuos-variable quantum circuit consisting of modes and operations performed on modes. See [Constructing Circuit Representation](circuit_repr.ipynb) for details. |\n",
    "| Graph representation     | An intermediate representation between the circuit representation and the machinery representation. See [Constructing Graph Representation](graph_repr.ipynb) for details. |\n",
    "| Machinery representation | The final data format used for executing the optical quantum computer of MQC3. See [Constructing Machinery Representation](machinery_repr.ipynb) and [Theory](theory.md) for details. |\n",
    "\n",
    "### Example: Circuit Representation\n",
    "\n",
    "The image below shows an example of a circuit representation.\n",
    "This circuit consists of two modes, mode `0` and mode `1`, and performs five operations in sequence:\n",
    "\n",
    "1. Rotate mode `0` by $\\frac{\\pi}{4}$\n",
    "2. Displace the $x$-quadrature of mode `0` by $1$ and the $p$-quadrature by $-1$\n",
    "3. Perform a controlled-Z operation between mode `0` and mode `1`\n",
    "4. Measure mode `0` at a measurement angle of $0$\n",
    "5. Measure mode `1` at a measurement angle of $\\frac{\\pi}{2}$\n",
    "\n",
    "See [Gates](gates.md) for the definition of these operations.\n",
    "\n",
    "![circuit](_images/circuit_repr_sample_circuit.svg)\n",
    "\n",
    "### Example: Graph Representation\n",
    "\n",
    "The image below illustrates the graph representation corresponding to the above circuit representation.\n",
    "The graph representation can be visualized in two dimensions, as shown below.\n",
    "The twelve large circles are called **macronodes**, and each macronode contains four small circles, which are called **micronodes**.\n",
    "\n",
    "* A \"step\" consists of a group of vertically aligned macronodes.\n",
    "* The number of macronodes arranged vertically is the number of local macronodes per step.\n",
    "* The number of macronodes arranged horizontally is the number of steps.\n",
    "\n",
    "In this example:\n",
    "\n",
    "* The number of local macronodes per step is `3`.\n",
    "* The number of steps is `4`.\n",
    "\n",
    "The blue micronode represents mode `0`, which undergoes transformations as it passes through four macronodes.\n",
    "The red micronode corresponds to mode `1`, which is processed through three macronodes.\n",
    "Both modes are initialized at the first macronode and measured at the last macronode.\n",
    "Thus, this graph representation is equivalent to the circuit representation shown above.\n",
    "\n",
    "![graph](_images/quickstart_graph.png)"
   ]
  },
  {
   "cell_type": "markdown",
   "metadata": {},
   "source": [
    "## Creating a circuit\n",
    "\n",
    "Let's create the following quantum circuit and run it on the optical quantum computer.\n",
    "This circuit performs rotation and measurement on mode `0`.\n",
    "\n",
    "![quickstart_example](_images/quickstart_example.svg)\n",
    "\n",
    "First, import the necessary packages."
   ]
  },
  {
   "cell_type": "code",
   "execution_count": null,
   "metadata": {},
   "outputs": [],
   "source": [
    "from math import pi\n",
    "\n",
    "import matplotlib.pyplot as plt\n",
    "import numpy as np\n",
    "\n",
    "from mqc3.circuit import CircuitRepr\n",
    "from mqc3.circuit.ops import intrinsic\n",
    "from mqc3.client import MQC3Client\n",
    "from mqc3.execute import execute"
   ]
  },
  {
   "cell_type": "markdown",
   "metadata": {},
   "source": [
    "You can create a circuit using {py:class}`~mqc3.circuit.CircuitRepr`.\n",
    "A mode can be created using {py:meth}`~mqc3.circuit.CircuitRepr.Q`.\n",
    "Operations are created using {py:class}`~mqc3.circuit.ops.intrinsic.PhaseRotation` and {py:class}`~mqc3.circuit.ops.intrinsic.Measurement`."
   ]
  },
  {
   "cell_type": "code",
   "execution_count": null,
   "metadata": {},
   "outputs": [],
   "source": [
    "circuit = CircuitRepr(\"example\")\n",
    "circuit.Q(0) | intrinsic.PhaseRotation(pi / 4)\n",
    "circuit.Q(0) | intrinsic.Measurement(pi / 4)\n",
    "\n",
    "circuit"
   ]
  },
  {
   "cell_type": "markdown",
   "metadata": {},
   "source": [
    "## Creating a client\n",
    "\n",
    "To use the optical quantum computer, you need to create an execution client by instantiating {py:class}`~mqc3.client.MQC3Client`.\n",
    "You also need to set up your API token to send the circuit to the optical quantum computer."
   ]
  },
  {
   "cell_type": "code",
   "execution_count": null,
   "metadata": {},
   "outputs": [],
   "source": [
    "client = MQC3Client()\n",
    "client.backend = \"emulator\"\n",
    "client.n_shots = 1000\n",
    "# client.token = \"YOUR_API_TOKEN\""
   ]
  },
  {
   "cell_type": "markdown",
   "metadata": {},
   "source": [
    "## Executing the circuit\n",
    "\n",
    "You can execute the circuit using {py:func}`~mqc3.execute.execute`.\n",
    "This function takes a circuit and a client as arguments and returns the execution result."
   ]
  },
  {
   "cell_type": "code",
   "execution_count": null,
   "metadata": {},
   "outputs": [],
   "source": [
    "result = execute(circuit, client)"
   ]
  },
  {
   "cell_type": "markdown",
   "metadata": {},
   "source": [
    "## Checking the execution result\n",
    "\n",
    "The execution result is returned as an instance of {py:class}`~mqc3.execute.ExecutionResult`.\n",
    "You can print the result as shown below."
   ]
  },
  {
   "cell_type": "code",
   "execution_count": null,
   "metadata": {},
   "outputs": [],
   "source": [
    "from pprint import pprint\n",
    "\n",
    "pprint(result)"
   ]
  },
  {
   "cell_type": "markdown",
   "metadata": {},
   "source": [
    "You can get the execution result of the 0th shot as shown below."
   ]
  },
  {
   "cell_type": "code",
   "execution_count": null,
   "metadata": {},
   "outputs": [],
   "source": [
    "pprint(result[0])"
   ]
  },
  {
   "cell_type": "markdown",
   "metadata": {},
   "source": [
    "If you want to check the transformed graph representation and its result, refer to {py:attr}`~mqc3.client.MQC3ClientResult.compiled_graph` and {py:attr}`~mqc3.client.MQC3ClientResult.graph_result`."
   ]
  },
  {
   "cell_type": "code",
   "execution_count": null,
   "metadata": {},
   "outputs": [],
   "source": [
    "from mqc3.client import MQC3ClientResult\n",
    "\n",
    "assert isinstance(result.client_result, MQC3ClientResult)\n",
    "graph = result.client_result.compiled_graph\n",
    "graph_result = result.client_result.graph_result"
   ]
  },
  {
   "cell_type": "markdown",
   "metadata": {},
   "source": [
    "You can plot the graph using {py:func}`~mqc3.graph.visualize.make_figure` to verify the result of the transformation into the graph representation."
   ]
  },
  {
   "cell_type": "code",
   "execution_count": null,
   "metadata": {},
   "outputs": [],
   "source": [
    "from mqc3.graph.visualize import make_figure\n",
    "\n",
    "assert graph is not None\n",
    "make_figure(graph, ignore_wiring=True);"
   ]
  },
  {
   "cell_type": "code",
   "execution_count": null,
   "metadata": {},
   "outputs": [],
   "source": [
    "assert graph_result is not None\n",
    "print(graph_result[1])  # Measurement results of the first shot."
   ]
  },
  {
   "cell_type": "markdown",
   "metadata": {},
   "source": [
    "If you want to check the transformed machinery representation and its result, refer to {py:attr}`~mqc3.client.MQC3ClientResult.compiled_machinery` and {py:attr}`~mqc3.client.MQC3ClientResult.machinery_result`."
   ]
  },
  {
   "cell_type": "code",
   "execution_count": null,
   "metadata": {},
   "outputs": [],
   "source": [
    "assert isinstance(result.client_result, MQC3ClientResult)\n",
    "machine = result.client_result.compiled_machinery\n",
    "machine_result = result.client_result.machinery_result"
   ]
  },
  {
   "cell_type": "code",
   "execution_count": null,
   "metadata": {},
   "outputs": [],
   "source": [
    "assert machine is not None\n",
    "pprint(machine.get_homodyne_angle(0))  # Measurement angles at macronode index 0.\n",
    "pprint(machine.get_homodyne_angle(1))  # Measurement angles at macronode index 1."
   ]
  },
  {
   "cell_type": "code",
   "execution_count": null,
   "metadata": {},
   "outputs": [],
   "source": [
    "assert machine_result is not None\n",
    "print(machine_result[1])  # Measurement results of the first shot."
   ]
  },
  {
   "cell_type": "markdown",
   "metadata": {},
   "source": [
    "## Checking the rotation result\n",
    "\n",
    "As an example of a slightly more complex code, the following example demonstrates how to validate the previously mentioned phase rotation.\n",
    "This time, the mode after the rotation is measured at various angles ($\\theta=0,\\frac{\\pi}{8},\\frac{\\pi}{4},\\dots,\\pi$), and the variance of the measured values is calculated for each angle.\n",
    "\n",
    "![quickstart_multi_param](_images/quickstart_multi_param.svg)"
   ]
  },
  {
   "cell_type": "code",
   "execution_count": null,
   "metadata": {},
   "outputs": [],
   "source": [
    "def construct_circuit(theta: float) -> CircuitRepr:\n",
    "    circuit = CircuitRepr(f\"theta={theta}\")\n",
    "    circuit.Q(0) | intrinsic.PhaseRotation(pi / 4)\n",
    "    circuit.Q(0) | intrinsic.Measurement(theta)\n",
    "\n",
    "    return circuit\n",
    "\n",
    "\n",
    "# Define measurement angles: 0, pi/8, pi/4, ..., pi.\n",
    "angle_list = np.linspace(0, pi, 9)\n",
    "\n",
    "var_list = []\n",
    "\n",
    "for theta in angle_list:\n",
    "    circuit = construct_circuit(theta)\n",
    "    result = execute(circuit, client)\n",
    "\n",
    "    # Collect the measured values for mode 0.\n",
    "    mode0_values = [smv[0].value for smv in result]\n",
    "\n",
    "    # Calculate and store the variance.\n",
    "    var_list.append(np.var(mode0_values))\n",
    "\n",
    "print(var_list)"
   ]
  },
  {
   "cell_type": "markdown",
   "metadata": {},
   "source": [
    "### Plotting the variance\n",
    "\n",
    "The mode is initially in an $x$-squeezed state (squeezing angle=$\\frac{\\pi}{2}$).\n",
    "After the $\\frac{\\pi}{4}$ rotation, the state acquires a squeezing angle of $\\frac{3\\pi}{4}$.\n",
    "Therefore, when measured in the direction of $\\frac{3\\pi}{4}$, the variance is minimized, whereas in the direction of $\\frac{\\pi}{4}$, the variance is maximized."
   ]
  },
  {
   "cell_type": "code",
   "execution_count": null,
   "metadata": {},
   "outputs": [],
   "source": [
    "angle_labels = [\n",
    "    r\"$0$\",\n",
    "    r\"$\\frac{\\pi}{8}$\",\n",
    "    r\"$\\frac{\\pi}{4}$\",\n",
    "    r\"$\\frac{3\\pi}{8}$\",\n",
    "    r\"$\\frac{\\pi}{2}$\",\n",
    "    r\"$\\frac{5\\pi}{8}$\",\n",
    "    r\"$\\frac{3\\pi}{4}$\",\n",
    "    r\"$\\frac{7\\pi}{8}$\",\n",
    "    r\"$\\pi$\",\n",
    "]\n",
    "\n",
    "plt.figure(figsize=(10, 6))\n",
    "plt.plot(angle_list, var_list, \"ro-\", label=\"Mode 0\")\n",
    "\n",
    "plt.xlabel(r\"Measurement angle\")\n",
    "plt.ylabel(\"Variance\")\n",
    "plt.xticks(angle_list, angle_labels)\n",
    "plt.legend()\n",
    "plt.show()"
   ]
  }
 ],
 "metadata": {},
 "nbformat": 4,
 "nbformat_minor": 2
}
