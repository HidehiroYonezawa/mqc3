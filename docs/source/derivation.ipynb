{
 "cells": [
  {
   "cell_type": "markdown",
   "metadata": {},
   "source": [
    "# Derivation\n",
    "\n",
    "This page derives several equations that appear in {ref}`sec:gates` and {ref}`sec:theory`."
   ]
  },
  {
   "cell_type": "markdown",
   "metadata": {},
   "source": [
    "## Preparation\n",
    "\n",
    "### Variables and parameters"
   ]
  },
  {
   "cell_type": "code",
   "execution_count": null,
   "metadata": {},
   "outputs": [],
   "source": [
    "from itertools import product\n",
    "from math import isclose\n",
    "\n",
    "import numpy as np\n",
    "import sympy\n",
    "from sympy import (\n",
    "    Eq,\n",
    "    Matrix,\n",
    "    acos,\n",
    "    atan,\n",
    "    cos,\n",
    "    cot,\n",
    "    exp,\n",
    "    expand_trig,\n",
    "    pi,\n",
    "    simplify,\n",
    "    sin,\n",
    "    sqrt,\n",
    "    symbols,\n",
    "    tan,\n",
    "    trigsimp,\n",
    ")\n",
    "\n",
    "sympy.init_printing()\n",
    "\n",
    "x1, p1, x2, p2 = symbols(\"x1,p1,x2,p2\")\n",
    "c, r, t, t1, t2, phi = symbols(r\"c,r,θ,θ1,θ2,\\phi\")\n",
    "g, kappa, eta, x = symbols(r\"g,\\kappa,\\eta,x\")\n",
    "a, b = symbols(\"a,b\")\n",
    "alpha, beta, lam = symbols(r\"\\alpha,\\beta,\\lambda\")\n",
    "largeR, theta_rel = symbols(r\"R,\\theta_\\text{rel}\")\n",
    "ta, tb, tc, td = symbols(\"θ_a,θ_b,θ_c,θ_d\")\n",
    "m1, m2 = symbols(\"m1,m2\")\n",
    "ma, mb, mc, md = symbols(\"m_a,m_b,m_c,m_d\")\n",
    "mak, mbk, mck, mdk = symbols(\"m_a^k,m_b^k,m_c^k,m_d^k\")\n",
    "tak, tbk, tck, tdk = symbols(\"θ_a^k,θ_b^k,θ_c^k,θ_d^k\")\n",
    "makm1, mbkm1, mckm1, mdkm1 = symbols(\"m_a^{k-1},m_b^{k-1},m_c^{k-1},m_d^{k-1}\")\n",
    "takm1, tbkm1, tckm1, tdkm1 = symbols(\"θ_a^{k-1},θ_b^{k-1},θ_c^{k-1},θ_d^{k-1}\")\n",
    "makmN, mbkmN, mckmN, mdkmN = symbols(\"m_a^{k-N},m_b^{k-N},m_c^{k-N},m_d^{k-N}\")\n",
    "takmN, tbkmN, tckmN, tdkmN = symbols(\"θ_a^{k-N},θ_b^{k-N},θ_c^{k-N},θ_d^{k-N}\")\n",
    "tak1, tbk1, tck1, tdk1 = symbols(\"θ_a^{k+1},θ_b^{k+1},θ_c^{k+1},θ_d^{k+1}\")\n",
    "takN, tbkN, tckN, tdkN = symbols(\"θ_a^{k+N},θ_b^{k+N},θ_c^{k+N},θ_d^{k+N}\")\n",
    "xak1, xbk1, xck1, xdk1 = symbols(\"x_a^{k+1},x_b^{k+1},x_c^{k+1},x_d^{k+1}\")\n",
    "pak1, pbk1, pck1, pdk1 = symbols(\"p_a^{k+1},p_b^{k+1},p_c^{k+1},p_d^{k+1}\")\n",
    "xakN, xbkN, xckN, xdkN = symbols(\"x_a^{k+N},x_b^{k+N},x_c^{k+N},x_d^{k+N}\")\n",
    "pakN, pbkN, pckN, pdkN = symbols(\"p_a^{k+N},p_b^{k+N},p_c^{k+N},p_d^{k+N}\")"
   ]
  },
  {
   "cell_type": "markdown",
   "metadata": {},
   "source": [
    "### Operations"
   ]
  },
  {
   "cell_type": "markdown",
   "metadata": {},
   "source": [
    "#### Phase rotation"
   ]
  },
  {
   "cell_type": "code",
   "execution_count": null,
   "metadata": {},
   "outputs": [],
   "source": [
    "def R(phi):\n",
    "    return Matrix([\n",
    "        [cos(phi), -sin(phi)],\n",
    "        [sin(phi), cos(phi)],\n",
    "    ])\n",
    "\n",
    "\n",
    "R(phi)"
   ]
  },
  {
   "cell_type": "markdown",
   "metadata": {},
   "source": [
    "#### Squeezing"
   ]
  },
  {
   "cell_type": "code",
   "execution_count": null,
   "metadata": {},
   "outputs": [],
   "source": [
    "def S(r):\n",
    "    return Matrix([\n",
    "        [exp(-r), 0],\n",
    "        [0, exp(r)],\n",
    "    ])\n",
    "\n",
    "\n",
    "def Sv(c):\n",
    "    return Matrix([\n",
    "        [1 / c, 0],\n",
    "        [0, c],\n",
    "    ])\n",
    "\n",
    "\n",
    "S(r), Sv(c)"
   ]
  },
  {
   "cell_type": "markdown",
   "metadata": {},
   "source": [
    "#### Shear (X-invariant)"
   ]
  },
  {
   "cell_type": "code",
   "execution_count": null,
   "metadata": {},
   "outputs": [],
   "source": [
    "def P(k):\n",
    "    return Matrix([\n",
    "        [1, 0],\n",
    "        [2 * k, 1],\n",
    "    ])\n",
    "\n",
    "\n",
    "P(kappa)"
   ]
  },
  {
   "cell_type": "markdown",
   "metadata": {},
   "source": [
    "#### Shear (P-invariant)"
   ]
  },
  {
   "cell_type": "code",
   "execution_count": null,
   "metadata": {},
   "outputs": [],
   "source": [
    "def Q(eta):\n",
    "    return Matrix([\n",
    "        [1, 2 * eta],\n",
    "        [0, 1],\n",
    "    ])\n",
    "\n",
    "\n",
    "Q(eta)"
   ]
  },
  {
   "cell_type": "markdown",
   "metadata": {},
   "source": [
    "#### Controlled-Z"
   ]
  },
  {
   "cell_type": "code",
   "execution_count": null,
   "metadata": {},
   "outputs": [],
   "source": [
    "def Cz(g):\n",
    "    return Matrix([\n",
    "        [1, 0, 0, 0],\n",
    "        [0, 1, 0, 0],\n",
    "        [0, g, 1, 0],\n",
    "        [g, 0, 0, 1],\n",
    "    ])\n",
    "\n",
    "\n",
    "Cz(g)"
   ]
  },
  {
   "cell_type": "markdown",
   "metadata": {},
   "source": [
    "#### Beamsplitter interaction"
   ]
  },
  {
   "cell_type": "code",
   "execution_count": null,
   "metadata": {},
   "outputs": [],
   "source": [
    "def B_ab(alpha, beta):\n",
    "    cos_p = cos(alpha + beta)\n",
    "    cos_m = cos(alpha - beta)\n",
    "    sin_p = sin(alpha + beta)\n",
    "    sin_m = sin(alpha - beta)\n",
    "    return Matrix([\n",
    "        [cos_p * cos_m, sin_p * sin_m, -sin_p * cos_m, sin_m * cos_p],\n",
    "        [sin_p * sin_m, cos_p * cos_m, sin_m * cos_p, -sin_p * cos_m],\n",
    "        [sin_p * cos_m, -sin_m * cos_p, cos_p * cos_m, sin_p * sin_m],\n",
    "        [-sin_m * cos_p, sin_p * cos_m, sin_p * sin_m, cos_p * cos_m],\n",
    "    ])\n",
    "\n",
    "\n",
    "B_ab(alpha, beta)"
   ]
  },
  {
   "cell_type": "code",
   "execution_count": null,
   "metadata": {},
   "outputs": [],
   "source": [
    "def B(sqrt_r, theta_rel):\n",
    "    h_theta = theta_rel / 2\n",
    "    h_acos = acos(sqrt_r) / 2\n",
    "    alpha = h_theta + h_acos\n",
    "    beta = h_theta - h_acos\n",
    "    return B_ab(alpha, beta)\n",
    "\n",
    "\n",
    "B(sqrt(largeR), theta_rel)"
   ]
  },
  {
   "cell_type": "markdown",
   "metadata": {},
   "source": [
    "#### Two-mode shear"
   ]
  },
  {
   "cell_type": "code",
   "execution_count": null,
   "metadata": {},
   "outputs": [],
   "source": [
    "def P2(a, b):\n",
    "    return Matrix([\n",
    "        [1, 0, 0, 0],\n",
    "        [0, 1, 0, 0],\n",
    "        [2 * a, b, 1, 0],\n",
    "        [b, 2 * a, 0, 1],\n",
    "    ])\n",
    "\n",
    "\n",
    "P2(a, b)"
   ]
  },
  {
   "cell_type": "markdown",
   "metadata": {},
   "source": [
    "#### 50:50 beamsplitter and inverse 50:50 beamsplitter"
   ]
  },
  {
   "cell_type": "code",
   "execution_count": null,
   "metadata": {},
   "outputs": [],
   "source": [
    "Bd = Matrix([\n",
    "    [1, -1, 0, 0],\n",
    "    [1, 1, 0, 0],\n",
    "    [0, 0, 1, -1],\n",
    "    [0, 0, 1, 1],\n",
    "]) / sqrt(2)\n",
    "Bu = Matrix([\n",
    "    [1, 1, 0, 0],\n",
    "    [-1, 1, 0, 0],\n",
    "    [0, 0, 1, 1],\n",
    "    [0, 0, -1, 1],\n",
    "]) / sqrt(2)\n",
    "Bd, Bu"
   ]
  },
  {
   "cell_type": "markdown",
   "metadata": {},
   "source": [
    "#### Foursplitter"
   ]
  },
  {
   "cell_type": "code",
   "execution_count": null,
   "metadata": {},
   "outputs": [],
   "source": [
    "A_block = (\n",
    "    Matrix([\n",
    "        [1, 1, -1, -1],\n",
    "        [-1, 1, 1, -1],\n",
    "        [1, 1, 1, 1],\n",
    "        [-1, 1, -1, 1],\n",
    "    ])\n",
    "    / 2\n",
    ")\n",
    "Ad = Matrix.diag(A_block, A_block)\n",
    "simplify(Ad)"
   ]
  },
  {
   "cell_type": "markdown",
   "metadata": {},
   "source": [
    "#### {math}`V` in Eq. {math:numref}`eq:teleportation-circuit`"
   ]
  },
  {
   "cell_type": "code",
   "execution_count": null,
   "metadata": {},
   "outputs": [],
   "source": [
    "def V(t1, t2):\n",
    "    return R((t1 + t2 - pi) / 2) * Sv(cot((t1 - t2) / 2)) * R((t1 + t2) / 2)"
   ]
  },
  {
   "cell_type": "markdown",
   "metadata": {},
   "source": [
    "## Gates\n",
    "\n",
    "In this section, we confirm that the measurement angles shown in {ref}`sec:gates-in-graph-repr` implement the desired operations.\n",
    "\n",
    "### Single mode gates\n",
    "\n",
    "As stated in {ref}`sec:through-and-swap`, in the case of a single-mode operation, the same operation is applied to both input modes within each macronode.\n",
    "Therefore, it is sufficient to show that substituting {math}`\\theta_a` and {math}`\\theta_b` into {math}`V\\left(\\theta_b, \\theta_a\\right)` implements the desired operation, where {math}`V` is defined in Eq. {math:numref}`eq:teleportation-circuit`.\n",
    "\n",
    "#### {py:class}`~mqc3.graph.Wiring`\n",
    "\n",
    "Validate the measurement angles in {ref}`sec:gate-graph-repr-wiring`."
   ]
  },
  {
   "cell_type": "code",
   "execution_count": null,
   "metadata": {},
   "outputs": [],
   "source": [
    "V(pi / 2, 0)"
   ]
  },
  {
   "cell_type": "markdown",
   "metadata": {},
   "source": [
    "This is identity operation."
   ]
  },
  {
   "cell_type": "markdown",
   "metadata": {},
   "source": [
    "#### {py:class}`~mqc3.graph.ops.PhaseRotation`\n",
    "\n",
    "Validate the measurement angles in {ref}`sec:gate-graph-repr-rotation`."
   ]
  },
  {
   "cell_type": "code",
   "execution_count": null,
   "metadata": {},
   "outputs": [],
   "source": [
    "source = simplify(V((phi + pi) / 2, phi / 2))\n",
    "assert Eq(source, R(phi))"
   ]
  },
  {
   "cell_type": "markdown",
   "metadata": {},
   "source": [
    "#### {py:class}`~mqc3.graph.ops.Squeezing`\n",
    "\n",
    "Validate the measurement angles in {ref}`sec:gate-graph-repr-squeezing`."
   ]
  },
  {
   "cell_type": "code",
   "execution_count": null,
   "metadata": {},
   "outputs": [],
   "source": [
    "source = simplify(V(t, -t))\n",
    "target = simplify(R(-pi / 2) * Sv(cot(t)))\n",
    "assert Eq(source, target)"
   ]
  },
  {
   "cell_type": "markdown",
   "metadata": {},
   "source": [
    "#### {py:class}`~mqc3.graph.ops.Squeezing45`\n",
    "\n",
    "Validate the measurement angles in {ref}`sec:gate-graph-repr-squeezing45`.\n",
    "Multiply both sides by {math}`R\\left(\\frac{\\pi}{4}\\right)` from the left and by {math}`R\\left(-\\frac{\\pi}{4}\\right)` from the right."
   ]
  },
  {
   "cell_type": "code",
   "execution_count": null,
   "metadata": {},
   "outputs": [],
   "source": [
    "source = simplify(R(pi / 4) * V(pi / 4 + t, pi / 4 - t) * R(-pi / 4))\n",
    "target = simplify(Sv(cot(t)))\n",
    "assert Eq(source, target)"
   ]
  },
  {
   "cell_type": "markdown",
   "metadata": {},
   "source": [
    "(sec:shear-x-invariant-validation)=\n",
    "\n",
    "#### {py:class}`~mqc3.graph.ops.ShearXInvariant`\n",
    "\n",
    "Validate the measurement angles in {ref}`sec:gate-graph-repr-shear-x-inv`."
   ]
  },
  {
   "cell_type": "code",
   "execution_count": null,
   "metadata": {},
   "outputs": [],
   "source": [
    "source = V(pi / 2, ta)\n",
    "source = simplify(source)\n",
    "source = expand_trig(source)\n",
    "source = trigsimp(source)\n",
    "source = simplify(source)\n",
    "source = source.subs(ta, atan(kappa))\n",
    "assert Eq(source, P(kappa))"
   ]
  },
  {
   "cell_type": "markdown",
   "metadata": {},
   "source": [
    "#### {py:class}`~mqc3.graph.ops.ShearPInvariant`\n",
    "\n",
    "Validate the measurement angles in {ref}`sec:gate-graph-repr-shear-p-inv`."
   ]
  },
  {
   "cell_type": "code",
   "execution_count": null,
   "metadata": {},
   "outputs": [],
   "source": [
    "source = V(tb, 0)\n",
    "source = simplify(source)\n",
    "source = expand_trig(source)\n",
    "source = source.subs(tan(tb / 2), sqrt((1 - cos(tb)) / (1 + cos(tb))))  # half-angle formula\n",
    "source = source.subs(tb, sympy.acot(eta))\n",
    "source = simplify(source)\n",
    "source"
   ]
  },
  {
   "cell_type": "markdown",
   "metadata": {},
   "source": [
    "It can be easily shown that the (0, 1) element of matrix `source` is {math}`2\\eta`, which implements the desired operation."
   ]
  },
  {
   "cell_type": "code",
   "execution_count": null,
   "metadata": {},
   "outputs": [],
   "source": [
    "assert Eq(source.subs(source[0, 1], 2 * eta), Q(eta))"
   ]
  },
  {
   "cell_type": "markdown",
   "metadata": {},
   "source": [
    "(sec:graph-arbitrary-angles-validation)=\n",
    "\n",
    "#### {py:class}`~mqc3.graph.ops.Arbitrary`\n",
    "\n",
    "Solving Eqs. {math:numref}`eq:general-1mode-condition` yields the following measurement angles.\n",
    "\n",
    "```{math}\n",
    "\\begin{aligned}\n",
    "\\theta_a^k & =\\beta-\\arctan e^{-\\lambda} \\\\\n",
    "\\theta_b^k & =\\beta+\\arctan e^{-\\lambda} \\\\\n",
    "\\theta_a^{k+N} & =\\frac{\\alpha-\\beta}{2}+\\frac{\\pi}{4} \\\\\n",
    "\\theta_b^{k+N} & =\\frac{\\alpha-\\beta}{2}+\\frac{3 \\pi}{4}\n",
    "\\end{aligned}\n",
    "```\n",
    "\n",
    "As stated in {ref}`sec:angle-equivalence-2pi-pi`, shifting the measurement angles by {math}`\\pi` does not affect the operation, feedforward, or displacement.\n",
    "Therefore, prioritizing the symmetry of the equation, we rewrite {math}`\\theta_b^{k+N}` as\n",
    "\n",
    "```{math}\n",
    "\\theta_b^{k+N} =\\frac{\\alpha-\\beta}{2}-\\frac{\\pi}{4}.\n",
    "```\n",
    "\n",
    "These measurement angles are the same as those shown in {ref}`sec:gate-graph-repr-arbitrary`.\n",
    "Validate the angles."
   ]
  },
  {
   "cell_type": "code",
   "execution_count": null,
   "metadata": {},
   "outputs": [],
   "source": [
    "source = V((alpha - beta) / 2 - pi / 4, (alpha - beta) / 2 + pi / 4) * V(\n",
    "    beta + atan(exp(-lam)), beta - atan(exp(-lam))\n",
    ")\n",
    "source = simplify(source)\n",
    "target = R(alpha) * S(lam) * R(beta)\n",
    "assert Eq(source, target)"
   ]
  },
  {
   "cell_type": "markdown",
   "metadata": {},
   "source": [
    "### Two mode gates\n",
    "\n",
    "As seen in {numref}`fig:macronode_circuit`, the desired operation {math}`U` consists of independently applying the operation {math}`V\\left(\\theta_b, \\theta_a\\right)` to mode {math}`b` and {math}`V\\left(\\theta_d, \\theta_c\\right)` to mode {math}`d`, with a beam splitter and an inverse beam splitter on either side. Let\n",
    "\n",
    "```{math}\n",
    "V_2\\left(\\theta_a, \\theta_b, \\theta_c, \\theta_d\\right)=\\left(\\begin{array}{cccc}\n",
    "V_b^{00} & & V_b^{01} & \\\\\n",
    "& V_d^{00} && V_d^{01} \\\\\n",
    "V_b^{10} && V_b^{11} & \\\\\n",
    "& V_d^{10} && V_d^{11}\n",
    "\\end{array}\\right)\n",
    "```\n",
    "\n",
    "represents the operation that applies\n",
    "\n",
    "```{math}\n",
    "\\begin{aligned}\n",
    "& V\\left(\\theta_b, \\theta_a\\right)=\\left(\\begin{array}{ll}\n",
    "V_b^{00} & V_b^{01} \\\\\n",
    "V_b^{10} & V_b^{11}\n",
    "\\end{array}\\right), \\\\\n",
    "& V\\left(\\theta_d, \\theta_c\\right)=\\left(\\begin{array}{ll}\n",
    "V_d^{00} & V_d^{01} \\\\\n",
    "V_d^{10} & V_d^{11}\n",
    "\\end{array}\\right)\n",
    "\\end{aligned}\n",
    "```\n",
    "\n",
    "in parallel to the two modes. Then, the desired operation can be written as\n",
    "```{math}\n",
    "U\\left(\\theta_a, \\theta_b, \\theta_c, \\theta_d\\right)\n",
    "=\n",
    "B_\\uparrow V_2\\left(\\theta_a, \\theta_b, \\theta_c, \\theta_d\\right) B_\\downarrow.\n",
    "```"
   ]
  },
  {
   "cell_type": "markdown",
   "metadata": {},
   "source": [
    "#### {py:class}`~mqc3.graph.ops.BeamSplitter`\n",
    "\n",
    "Validate the measurement angles in {ref}`sec:gate-graph-repr-bs`.\n",
    "The angles can be expressed as {math}`\\left(\\alpha, \\alpha + \\pi / 2, \\beta, \\beta + \\pi / 2\\right)` using {math}`\\alpha` and {math}`\\beta` from Eq. {math:numref}`eq:bs-alpha-beta`."
   ]
  },
  {
   "cell_type": "code",
   "execution_count": null,
   "metadata": {},
   "outputs": [],
   "source": [
    "Vb = simplify(V(alpha + pi / 2, alpha))\n",
    "Vd = simplify(V(beta + pi / 2, beta))\n",
    "V2 = Matrix([\n",
    "    [Vb[0, 0], 0, Vb[0, 1], 0],\n",
    "    [0, Vd[0, 0], 0, Vd[0, 1]],\n",
    "    [Vb[1, 0], 0, Vb[1, 1], 0],\n",
    "    [0, Vd[1, 0], 0, Vd[1, 1]],\n",
    "])\n",
    "source = trigsimp(Bu * V2 * Bd)\n",
    "\n",
    "target = B_ab(alpha, beta)\n",
    "diff = simplify(source - target)\n",
    "diff"
   ]
  },
  {
   "cell_type": "markdown",
   "metadata": {},
   "source": [
    "#### {py:class}`~mqc3.graph.ops.ControlledZ`\n",
    "\n",
    "Calculate {math}`B_\\downarrow C_Z(g) B_\\uparrow` to get {math}`V_2`."
   ]
  },
  {
   "cell_type": "code",
   "execution_count": null,
   "metadata": {},
   "outputs": [],
   "source": [
    "V2 = Bd * Cz(g) * Bu\n",
    "V2"
   ]
  },
  {
   "cell_type": "markdown",
   "metadata": {},
   "source": [
    "Referring to {ref}`sec:shear-x-invariant-validation`, it can be seen that {math}`V\\left(\\theta_b, \\theta_a\\right)=P(-\\frac{g}{2})` and {math}`V\\left(\\theta_d, \\theta_c\\right)=P(\\frac{g}{2})`.\n",
    "These measurement angles are exactly the same as the measurement angles in {ref}`sec:gate-graph-repr-cz`."
   ]
  },
  {
   "cell_type": "markdown",
   "metadata": {},
   "source": [
    "#### {py:class}`~mqc3.graph.ops.TwoModeShear`\n",
    "\n",
    "Validate the measurement angles in {ref}`sec:gate-graph-repr-2mode-shear`."
   ]
  },
  {
   "cell_type": "code",
   "execution_count": null,
   "metadata": {},
   "outputs": [],
   "source": [
    "Vb = simplify(V(pi / 2, ta))\n",
    "Vd = simplify(V(pi / 2, tc))\n",
    "V2 = Matrix([\n",
    "    [Vb[0, 0], 0, Vb[0, 1], 0],\n",
    "    [0, Vd[0, 0], 0, Vd[0, 1]],\n",
    "    [Vb[1, 0], 0, Vb[1, 1], 0],\n",
    "    [0, Vd[1, 0], 0, Vd[1, 1]],\n",
    "])\n",
    "source = simplify(Bu * V2 * Bd)\n",
    "\n",
    "# Verify that Bu * V2 * Bd equals P2(a, b) for various combinations of a and b, using float comparison\n",
    "parameters = np.linspace(-3, 3, 7)\n",
    "idxs = list(range(4))\n",
    "for a, b in product(parameters, parameters):\n",
    "    source = source.subs([(ta, atan(a - b / 2)), (tc, atan(a + b / 2))])\n",
    "    source_f = source.evalf()\n",
    "    P2_f = P2(a, b).evalf()\n",
    "    for i, j in product(idxs, idxs):\n",
    "        isclose(source_f[i, j], P2_f[i, j], abs_tol=1e-9)"
   ]
  },
  {
   "cell_type": "markdown",
   "metadata": {},
   "source": [
    "(sec:std-bs-derivation)=\n",
    "\n",
    "## {py:class}`mqc3.circuit.ops.std.BeamSplitter`\n",
    "\n",
    "In this section, it is shown that the operation matrix in {ref}`sec:gate-circuit-std-bs` can be decomposed as\n",
    "\n",
    "```{math}\n",
    "---\n",
    "label: eq:std-bs-derivation-decomposition\n",
    "---\n",
    "R_{12} \\left(\\pi-\\theta-\\phi, \\frac{\\pi}{2}-\\theta\\right) Man\\left(0, \\frac{\\pi}{2}, \\theta, \\theta+\\frac{\\pi}{2}\\right) R_{12} \\left(\\phi-\\pi, -\\frac{\\pi}{2}\\right).\n",
    "```\n",
    "\n",
    "First, define {math}`R_{12}`."
   ]
  },
  {
   "cell_type": "code",
   "execution_count": null,
   "metadata": {},
   "outputs": [],
   "source": [
    "def R12(t1, t2):\n",
    "    return Matrix([\n",
    "        [cos(t1), 0, -sin(t1), 0],\n",
    "        [0, cos(t2), 0, -sin(t2)],\n",
    "        [sin(t1), 0, cos(t1), 0],\n",
    "        [0, sin(t2), 0, cos(t2)],\n",
    "    ])\n",
    "\n",
    "\n",
    "R12(t1, t2)"
   ]
  },
  {
   "cell_type": "markdown",
   "metadata": {},
   "source": [
    "The target matrix can be expressed as\n",
    "\n",
    "```{math}\n",
    "R_{12} \\left(\\pi-\\theta-\\phi, \\frac{\\pi}{2}-\\theta\\right) B^{\\prime}\\left(\\alpha=0, \\beta=\\theta\\right) R_{12} \\left(\\phi-\\pi, -\\frac{\\pi}{2}\\right)\n",
    "```\n",
    "\n",
    "using the right-hand side of the definition of {ref}`sec:gate-bs-symbol`,\n",
    "```{math}\n",
    "B^{\\prime}\\left(\\alpha, \\beta\\right)=\n",
    "\\left(\\begin{array}{rrrr}\n",
    "\\cos (\\alpha+\\beta) \\cos (\\alpha-\\beta) & \\sin (\\alpha+\\beta) \\sin (\\alpha-\\beta) & -\\sin (\\alpha+\\beta) \\cos (\\alpha-\\beta) & \\sin (\\alpha-\\beta) \\cos (\\alpha+\\beta) \\\\\n",
    "\\sin (\\alpha+\\beta) \\sin (\\alpha-\\beta) & \\cos (\\alpha+\\beta) \\cos (\\alpha-\\beta) & \\sin (\\alpha-\\beta) \\cos (\\alpha+\\beta) & -\\sin (\\alpha+\\beta) \\cos (\\alpha-\\beta) \\\\\n",
    "\\sin (\\alpha+\\beta) \\cos (\\alpha-\\beta) & -\\sin (\\alpha-\\beta) \\cos (\\alpha+\\beta) & \\cos (\\alpha+\\beta) \\cos (\\alpha-\\beta) & \\sin (\\alpha+\\beta) \\sin (\\alpha-\\beta) \\\\\n",
    "-\\sin (\\alpha-\\beta) \\cos (\\alpha+\\beta) & \\sin (\\alpha+\\beta) \\cos (\\alpha-\\beta) & \\sin (\\alpha+\\beta) \\sin (\\alpha-\\beta) & \\cos (\\alpha+\\beta) \\cos (\\alpha-\\beta)\n",
    "\\end{array}\\right).\n",
    "```"
   ]
  },
  {
   "cell_type": "code",
   "execution_count": null,
   "metadata": {},
   "outputs": [],
   "source": [
    "result = R12(pi - t - phi, pi / 2 - t) * B_ab(0, t) * R12(phi - pi, -pi / 2)\n",
    "result = simplify(result)\n",
    "result"
   ]
  },
  {
   "cell_type": "markdown",
   "metadata": {},
   "source": [
    "On the other hand, it can be proven that\n",
    "\n",
    "```{math}\n",
    "B^{\\prime}\\left(\\alpha, \\beta\\right) = Man\\left(\\alpha, \\alpha+\\frac{\\pi}{2}, \\beta, \\beta+\\frac{\\pi}{2}\\right).\n",
    "```\n",
    "\n",
    "Thus, the desired operation can be expressed through the decomposition in Eq. {math:numref}`eq:std-bs-derivation-decomposition`."
   ]
  },
  {
   "cell_type": "markdown",
   "metadata": {},
   "source": [
    "## Feedforward"
   ]
  },
  {
   "cell_type": "markdown",
   "metadata": {},
   "source": [
    "### Feedforward within teleportation circuit\n",
    "\n",
    "Define {math}`\\boldsymbol{f}_\\text{tel} \\left(\\theta_1, \\theta_2; m_1, m_2\\right)` in Eq. {math:numref}`eq:teleportation-ff`."
   ]
  },
  {
   "cell_type": "code",
   "execution_count": null,
   "metadata": {},
   "outputs": [],
   "source": [
    "def f_tel(_t1, _t2, _m1, _m2):\n",
    "    return -(\n",
    "        Matrix([\n",
    "            [cos(_t2), cos(_t1)],\n",
    "            [sin(_t2), sin(_t1)],\n",
    "        ])\n",
    "        * Matrix([_m1, _m2])\n",
    "        * sqrt(2)\n",
    "        / sin(_t2 - _t1)\n",
    "    )\n",
    "\n",
    "\n",
    "f_tel(t1, t2, m1, m2)"
   ]
  },
  {
   "cell_type": "markdown",
   "metadata": {},
   "source": [
    "(sec:macronode-ff-derivation)=\n",
    "\n",
    "### Feedforward within macronode circuit\n",
    "\n",
    "Derive Eq. {math:numref}`eq:macronode-ff`."
   ]
  },
  {
   "cell_type": "code",
   "execution_count": null,
   "metadata": {},
   "outputs": [],
   "source": [
    "_XXPP = Bu * Matrix([\n",
    "    f_tel(tbk, tak, mbk, mak)[0],\n",
    "    f_tel(tdk, tck, mdk, mck)[0],\n",
    "    f_tel(tbk, tak, mbk, mak)[1],\n",
    "    f_tel(tdk, tck, mdk, mck)[1],\n",
    "])\n",
    "\n",
    "\n",
    "def f_mac_1(_ta, _tb, _tc, _td, _ma, _mb, _mc, _md):\n",
    "    return Matrix([_XXPP[0], _XXPP[2]]).subs([\n",
    "        (tak, _ta),\n",
    "        (tbk, _tb),\n",
    "        (tck, _tc),\n",
    "        (tdk, _td),\n",
    "        (mak, _ma),\n",
    "        (mbk, _mb),\n",
    "        (mck, _mc),\n",
    "        (mdk, _md),\n",
    "    ])\n",
    "\n",
    "\n",
    "def f_mac_N(_ta, _tb, _tc, _td, _ma, _mb, _mc, _md):\n",
    "    return Matrix([_XXPP[1], _XXPP[3]]).subs([\n",
    "        (tak, _ta),\n",
    "        (tbk, _tb),\n",
    "        (tck, _tc),\n",
    "        (tdk, _td),\n",
    "        (mak, _ma),\n",
    "        (mbk, _mb),\n",
    "        (mck, _mc),\n",
    "        (mdk, _md),\n",
    "    ])\n",
    "\n",
    "\n",
    "f_mac_1(tak, tbk, tck, tdk, mak, mbk, mck, mdk), f_mac_N(tak, tbk, tck, tdk, mak, mbk, mck, mdk)"
   ]
  },
  {
   "cell_type": "code",
   "execution_count": null,
   "metadata": {},
   "outputs": [],
   "source": [
    "X_k_1 = f_mac_1(tak, tbk, tck, tdk, mak, mbk, mck, mdk)[0]\n",
    "P_k_1 = f_mac_1(tak, tbk, tck, tdk, mak, mbk, mck, mdk)[1]\n",
    "X_k_N = f_mac_N(tak, tbk, tck, tdk, mak, mbk, mck, mdk)[0]\n",
    "P_k_N = f_mac_N(tak, tbk, tck, tdk, mak, mbk, mck, mdk)[1]\n",
    "\n",
    "Matrix([[X_k_1], [P_k_1]]), Matrix([[X_k_N], [P_k_N]])"
   ]
  },
  {
   "cell_type": "markdown",
   "metadata": {},
   "source": [
    "(sec:numerical-ff-derivation)=\n",
    "\n",
    "### Numerical feedforward\n",
    "\n",
    "Derive {math}`\\boldsymbol{f}^{+1}_\\text{num} \\left(\\boldsymbol{\\theta}^k, \\boldsymbol{m}^k, \\boldsymbol{\\theta}^{k+1}\\right)` and {math}`\\boldsymbol{f}^{+N}_\\text{num} \\left(\\boldsymbol{\\theta}^k, \\boldsymbol{m}^k, \\boldsymbol{\\theta}^{k+N}\\right)` in {ref}`sec:numerical-feedforward`."
   ]
  },
  {
   "cell_type": "code",
   "execution_count": null,
   "metadata": {},
   "outputs": [],
   "source": [
    "def f_num_1(_tak, _tbk, _tck, _tdk, _mak, _mbk, _mck, _mdk, _tak1, _tbk1, _tck1, _tdk1):\n",
    "    return trigsimp(\n",
    "        Matrix([\n",
    "            [sin(tak1), 0, 0, 0, cos(tak1), 0, 0, 0],\n",
    "            [0, sin(tbk1), 0, 0, 0, cos(tbk1), 0, 0],\n",
    "            [0, 0, sin(tck1), 0, 0, 0, cos(tck1), 0],\n",
    "            [0, 0, 0, sin(tdk1), 0, 0, 0, cos(tdk1)],\n",
    "        ])\n",
    "        * Ad\n",
    "        * Matrix([0, X_k_1, 0, 0, 0, P_k_1, 0, 0])\n",
    "    ).subs([\n",
    "        (tak, _tak),\n",
    "        (tbk, _tbk),\n",
    "        (tck, _tck),\n",
    "        (tdk, _tdk),\n",
    "        (mak, _mak),\n",
    "        (mbk, _mbk),\n",
    "        (mck, _mck),\n",
    "        (mdk, _mdk),\n",
    "        (tak1, _tak1),\n",
    "        (tbk1, _tbk1),\n",
    "        (tck1, _tck1),\n",
    "        (tdk1, _tdk1),\n",
    "    ])\n",
    "\n",
    "\n",
    "def f_num_N(_tak, _tbk, _tck, _tdk, _mak, _mbk, _mck, _mdk, _takN, _tbkN, _tckN, _tdkN):\n",
    "    return trigsimp(\n",
    "        Matrix([\n",
    "            [sin(takN), 0, 0, 0, cos(takN), 0, 0, 0],\n",
    "            [0, sin(tbkN), 0, 0, 0, cos(tbkN), 0, 0],\n",
    "            [0, 0, sin(tckN), 0, 0, 0, cos(tckN), 0],\n",
    "            [0, 0, 0, sin(tdkN), 0, 0, 0, cos(tdkN)],\n",
    "        ])\n",
    "        * Ad\n",
    "        * Matrix([0, 0, 0, X_k_N, 0, 0, 0, P_k_N])\n",
    "    ).subs([\n",
    "        (tak, _tak),\n",
    "        (tbk, _tbk),\n",
    "        (tck, _tck),\n",
    "        (tdk, _tdk),\n",
    "        (mak, _mak),\n",
    "        (mbk, _mbk),\n",
    "        (mck, _mck),\n",
    "        (mdk, _mdk),\n",
    "        (takN, _takN),\n",
    "        (tbkN, _tbkN),\n",
    "        (tckN, _tckN),\n",
    "        (tdkN, _tdkN),\n",
    "    ])\n",
    "\n",
    "\n",
    "(\n",
    "    f_num_1(tak, tbk, tck, tdk, mak, mbk, mck, mdk, tak1, tbk1, tck1, tdk1),\n",
    "    f_num_N(tak, tbk, tck, tdk, mak, mbk, mck, mdk, takN, tbkN, tckN, tdkN),\n",
    ")"
   ]
  },
  {
   "cell_type": "markdown",
   "metadata": {},
   "source": [
    "(sec:initialization-ff-derivation)=\n",
    "\n",
    "### Feedforward immediately after initialization\n",
    "\n",
    "Define readout measured values in Eq. {math:numref}`eq:readout-measured-values`."
   ]
  },
  {
   "cell_type": "code",
   "execution_count": null,
   "metadata": {},
   "outputs": [],
   "source": [
    "def M(_ma, _mb, _mc, _md):\n",
    "    return (\n",
    "        Matrix([\n",
    "            [1, -1, 1, -1],\n",
    "            [1, 1, 1, 1],\n",
    "            [-1, 1, 1, -1],\n",
    "            [-1, -1, 1, 1],\n",
    "        ])\n",
    "        * Matrix([_ma, _mb, _mc, _md])\n",
    "        / 2\n",
    "    )\n",
    "\n",
    "\n",
    "M(mak, mbk, mck, mdk)"
   ]
  },
  {
   "cell_type": "markdown",
   "metadata": {},
   "source": [
    "Define {math}`\\mathscr{X}_k^{+1} \\left(\\theta_a^k, \\boldsymbol{m}^k \\right)`, {math}`\\mathscr{P}_k^{+1} \\left(\\theta_a^k, \\boldsymbol{m}^k \\right)`, {math}`\\mathscr{X}_k^{+N} \\left(\\theta_c^k, \\boldsymbol{m}^k \\right)`, and {math}`\\mathscr{P}_k^{+N} \\left(\\theta_c^k, \\boldsymbol{m}^k \\right)` in Eq. {math:numref}`eq:initialization-macronode-ff`."
   ]
  },
  {
   "cell_type": "code",
   "execution_count": null,
   "metadata": {},
   "outputs": [],
   "source": [
    "iX_k_1 = -M(mak, mbk, mck, mdk)[0] * sin(tak)\n",
    "iP_k_1 = M(mak, mbk, mck, mdk)[0] * cos(tak)\n",
    "iX_k_N = -M(mak, mbk, mck, mdk)[2] * sin(tck)\n",
    "iP_k_N = M(mak, mbk, mck, mdk)[2] * cos(tck)\n",
    "\n",
    "Matrix([[iX_k_1], [iP_k_1]]), Matrix([[iX_k_N], [iP_k_N]])"
   ]
  },
  {
   "cell_type": "markdown",
   "metadata": {},
   "source": [
    "Derive Eq. {math:numref}`eq:initialization-numerical-ff`."
   ]
  },
  {
   "cell_type": "code",
   "execution_count": null,
   "metadata": {},
   "outputs": [],
   "source": [
    "def i_num_1(_tak, _mak, _mbk, _mck, _mdk, _tak1, _tbk1, _tck1, _tdk1):\n",
    "    return trigsimp(\n",
    "        Matrix([\n",
    "            [sin(tak1), 0, 0, 0, cos(tak1), 0, 0, 0],\n",
    "            [0, sin(tbk1), 0, 0, 0, cos(tbk1), 0, 0],\n",
    "            [0, 0, sin(tck1), 0, 0, 0, cos(tck1), 0],\n",
    "            [0, 0, 0, sin(tdk1), 0, 0, 0, cos(tdk1)],\n",
    "        ])\n",
    "        * Ad\n",
    "        * Matrix([0, iX_k_1, 0, 0, 0, iP_k_1, 0, 0])\n",
    "    ).subs([\n",
    "        (tak, _tak),\n",
    "        (mak, _mak),\n",
    "        (mbk, _mbk),\n",
    "        (mck, _mck),\n",
    "        (mdk, _mdk),\n",
    "        (tak1, _tak1),\n",
    "        (tbk1, _tbk1),\n",
    "        (tck1, _tck1),\n",
    "        (tdk1, _tdk1),\n",
    "    ])\n",
    "\n",
    "\n",
    "def i_num_N(_tck, _mak, _mbk, _mck, _mdk, _takN, _tbkN, _tckN, _tdkN):\n",
    "    return trigsimp(\n",
    "        Matrix([\n",
    "            [sin(takN), 0, 0, 0, cos(takN), 0, 0, 0],\n",
    "            [0, sin(tbkN), 0, 0, 0, cos(tbkN), 0, 0],\n",
    "            [0, 0, sin(tckN), 0, 0, 0, cos(tckN), 0],\n",
    "            [0, 0, 0, sin(tdkN), 0, 0, 0, cos(tdkN)],\n",
    "        ])\n",
    "        * Ad\n",
    "        * Matrix([0, 0, 0, iX_k_N, 0, 0, 0, iP_k_N])\n",
    "    ).subs([\n",
    "        (tck, _tck),\n",
    "        (mak, _mak),\n",
    "        (mbk, _mbk),\n",
    "        (mck, _mck),\n",
    "        (mdk, _mdk),\n",
    "        (takN, _takN),\n",
    "        (tbkN, _tbkN),\n",
    "        (tckN, _tckN),\n",
    "        (tdkN, _tdkN),\n",
    "    ])\n",
    "\n",
    "\n",
    "i_num_1(tak, mak, mbk, mck, mdk, tak1, tbk1, tck1, tdk1), i_num_N(tck, mak, mbk, mck, mdk, takN, tbkN, tckN, tdkN)"
   ]
  },
  {
   "cell_type": "markdown",
   "metadata": {},
   "source": [
    "(sec:displacement-derivation)=\n",
    "\n",
    "## Displacement\n",
    "\n",
    "Derive Eq. {math:numref}`eq:numerical-displacement`."
   ]
  },
  {
   "cell_type": "code",
   "execution_count": null,
   "metadata": {},
   "outputs": [],
   "source": [
    "dX_k_1 = symbols(r\"\\mathbb{X}_k^{+1}\")\n",
    "dP_k_1 = symbols(r\"\\mathbb{P}_k^{+1}\")  # noqa: RUF027\n",
    "dX_k_N = symbols(r\"\\mathbb{X}_k^{+N}\")\n",
    "dP_k_N = symbols(r\"\\mathbb{P}_k^{+N}\")  # noqa: RUF027\n",
    "\n",
    "Matrix([[dX_k_1], [dP_k_1]]), Matrix([[dX_k_N], [dP_k_N]])"
   ]
  },
  {
   "cell_type": "code",
   "execution_count": null,
   "metadata": {},
   "outputs": [],
   "source": [
    "def d_num_1(_dX_k_1, _dP_k_1, _tak1, _tbk1, _tck1, _tdk1):\n",
    "    return trigsimp(\n",
    "        Matrix([\n",
    "            [sin(tak1), 0, 0, 0, cos(tak1), 0, 0, 0],\n",
    "            [0, sin(tbk1), 0, 0, 0, cos(tbk1), 0, 0],\n",
    "            [0, 0, sin(tck1), 0, 0, 0, cos(tck1), 0],\n",
    "            [0, 0, 0, sin(tdk1), 0, 0, 0, cos(tdk1)],\n",
    "        ])\n",
    "        * Ad\n",
    "        * Matrix([0, dX_k_1, 0, 0, 0, dP_k_1, 0, 0])\n",
    "    ).subs([\n",
    "        (dX_k_1, _dX_k_1),\n",
    "        (dP_k_1, _dP_k_1),\n",
    "        (tak1, _tak1),\n",
    "        (tbk1, _tbk1),\n",
    "        (tck1, _tck1),\n",
    "        (tdk1, _tdk1),\n",
    "    ])\n",
    "\n",
    "\n",
    "def d_num_N(_dX_k_N, _dP_k_N, _takN, _tbkN, _tckN, _tdkN):\n",
    "    return trigsimp(\n",
    "        Matrix([\n",
    "            [sin(takN), 0, 0, 0, cos(takN), 0, 0, 0],\n",
    "            [0, sin(tbkN), 0, 0, 0, cos(tbkN), 0, 0],\n",
    "            [0, 0, sin(tckN), 0, 0, 0, cos(tckN), 0],\n",
    "            [0, 0, 0, sin(tdkN), 0, 0, 0, cos(tdkN)],\n",
    "        ])\n",
    "        * Ad\n",
    "        * Matrix([0, 0, 0, dX_k_N, 0, 0, 0, dP_k_N])\n",
    "    ).subs([\n",
    "        (dX_k_N, _dX_k_N),\n",
    "        (dP_k_N, _dP_k_N),\n",
    "        (takN, _takN),\n",
    "        (tbkN, _tbkN),\n",
    "        (tckN, _tckN),\n",
    "        (tdkN, _tdkN),\n",
    "    ])\n",
    "\n",
    "\n",
    "d_num_1(dX_k_1, dP_k_1, tak1, tbk1, tck1, tdk1), d_num_N(dX_k_N, dP_k_N, takN, tbkN, tckN, tdkN)"
   ]
  }
 ],
 "metadata": {},
 "nbformat": 4,
 "nbformat_minor": 2
}
