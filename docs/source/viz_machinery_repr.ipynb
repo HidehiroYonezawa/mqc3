{
 "cells": [
  {
   "cell_type": "markdown",
   "metadata": {},
   "source": [
    "# Visualizing Machinery Representation"
   ]
  },
  {
   "cell_type": "markdown",
   "metadata": {},
   "source": [
    "For analyzing the machinery representation, we can visualize the graph using `mqc3.machinery.visualize` module. \n",
    "This module provides functions \n",
    "\n",
    "* `make_figure`: visualize the machinery representation\n",
    "* `savefig`: save the figure of the visualized machinery representation."
   ]
  },
  {
   "cell_type": "markdown",
   "metadata": {},
   "source": [
    "## Prepare a sample machinery representation"
   ]
  },
  {
   "cell_type": "code",
   "execution_count": null,
   "metadata": {},
   "outputs": [],
   "source": [
    "from mqc3.graph import GraphRepr\n",
    "from mqc3.graph.constant import BLANK_MODE\n",
    "from mqc3.machinery import MachineryRepr\n",
    "\n",
    "graph = GraphRepr(5, 5)"
   ]
  },
  {
   "cell_type": "code",
   "execution_count": null,
   "metadata": {},
   "outputs": [],
   "source": [
    "from math import pi\n",
    "\n",
    "from mqc3.feedforward import feedforward\n",
    "from mqc3.graph import Wiring, ops\n",
    "\n",
    "\n",
    "@feedforward\n",
    "def add_pi(x: float) -> float:\n",
    "    from math import pi  # noqa:PLC0415\n",
    "\n",
    "    return x + pi\n",
    "\n",
    "\n",
    "@feedforward\n",
    "def square(x: float) -> float:\n",
    "    return x * x\n",
    "\n",
    "\n",
    "@feedforward\n",
    "def cube(x: float) -> float:\n",
    "    return x * x * x\n",
    "\n",
    "\n",
    "graph.place_operation(ops.Initialization((0, 1), 0.0, (0, BLANK_MODE)))\n",
    "graph.place_operation(ops.Initialization((1, 0), 0.0, (BLANK_MODE, 1)))\n",
    "graph.place_operation(ops.Initialization((2, 0), 0.0, (BLANK_MODE, 2)))\n",
    "graph.place_operation(ops.BeamSplitter((1, 1), 0.0, 0.0, displacement_k_minus_n=(1.0, -1.0), swap=True))\n",
    "graph.place_operation(ops.TwoModeShear((2, 1), 0.0, 0.0, displacement_k_minus_1=(-1.0, 1.0), swap=True))\n",
    "graph.place_operation(ops.PhaseRotation((3, 1), pi / 2, swap=True))\n",
    "graph.place_operation(ops.Measurement((1, 2), 0.0))  # Measure mode 0\n",
    "m0 = graph.get_mode_measured_value(0)\n",
    "graph.place_operation(Wiring((2, 2), swap=True))\n",
    "graph.place_operation(ops.ControlledZ((3, 2), 0.0, swap=False))\n",
    "graph.place_operation(ops.Measurement((4, 2), 0.0))  # Measure mode 1\n",
    "m1 = graph.get_mode_measured_value(1)\n",
    "graph.place_operation(\n",
    "    ops.ShearPInvariant((3, 3), square(m0), displacement_k_minus_n=(add_pi(m0), cube(m1)), swap=True)\n",
    ")\n",
    "graph.place_operation(ops.Measurement((4, 3), 0.0))  # Measure mode 2"
   ]
  },
  {
   "cell_type": "code",
   "execution_count": null,
   "metadata": {},
   "outputs": [],
   "source": [
    "machinery = MachineryRepr.from_graph_repr(graph)"
   ]
  },
  {
   "cell_type": "markdown",
   "metadata": {},
   "source": [
    "{py:func}`~mqc3.machinery.visualize.make_figure` function can be used to visualize the machinery representation.\n",
    "\n",
    "The function takes the machinery representation and visualize options as input and returns a {py:class}`matplotlib.figure.Figure` object which can be displayed using {py:func}`matplotlib.pyplot.show()` function."
   ]
  },
  {
   "cell_type": "code",
   "execution_count": null,
   "metadata": {},
   "outputs": [],
   "source": [
    "from mqc3.machinery.visualize import make_figure\n",
    "\n",
    "make_figure(machinery);"
   ]
  },
  {
   "cell_type": "markdown",
   "metadata": {},
   "source": [
    "{py:func}`~mqc3.machinery.visualize.savefig` function can be used to save the machinery representation as an image file."
   ]
  },
  {
   "cell_type": "code",
   "execution_count": null,
   "metadata": {},
   "outputs": [],
   "source": [
    "from mqc3.machinery.visualize import savefig\n",
    "\n",
    "savefig(machinery, \"mqc3_example.png\")"
   ]
  },
  {
   "cell_type": "markdown",
   "metadata": {},
   "source": [
    "## Options"
   ]
  },
  {
   "cell_type": "markdown",
   "metadata": {},
   "source": [
    "You can customize the appearance of the graph by specifying the following options."
   ]
  },
  {
   "cell_type": "markdown",
   "metadata": {},
   "source": [
    "### `title`\n",
    "\n",
    "The default value is `\"\"`.\n",
    "\n",
    "The title of the machinery representation.\n",
    "If no title is specified, the graph will be displayed without a title.\n",
    "\n",
    "### `scale`\n",
    "\n",
    "The default value is `2.0`.\n",
    "\n",
    "The scale of the figure size.\n",
    "If the image is low resolution, try increasing the `scale`.\n",
    "\n",
    "### `fontsize`\n",
    "\n",
    "The fontsize of each string. The default value is `7.0`.\n",
    "\n",
    "### `macronode_radius`\n",
    "\n",
    "The default value is `1.0`.\n",
    "\n",
    "### `micronode_radius`\n",
    "\n",
    "The default value is `0.2`.\n",
    "\n",
    "### `measurement_color`\n",
    "\n",
    "The default value is `black`.\n",
    "\n",
    "The color of the measurement.\n",
    "\n",
    "### `operation_color`\n",
    "\n",
    "The default value is `white`.\n",
    "\n",
    "The color of the operation.\n",
    "\n",
    "### `readout_edge_color`\n",
    "\n",
    "The default value is `red`.\n",
    "\n",
    "Thr edge color of macronodes to get measurement results.\n",
    "\n",
    "### `show_feedforward`\n",
    "\n",
    "The default value is `True`.\n",
    "\n",
    "The `show_feedforward` option controls whether feedforward operations are displayed.\n",
    "\n",
    "### `show_feedforward_param_label`\n",
    "\n",
    "The default value is `True`.\n",
    "\n",
    "The `show_feedforward_param_label` option controls whether parameter values for feedforward operations are displayed in the circuit representation.\n",
    "When set to `True`, these values appear next to their corresponding operations in the visualized circuit.\n",
    "\n",
    "### `feedforward_param_fontsize`\n",
    "\n",
    "The default value is `7.0`.\n",
    "\n",
    "The `feedforward_param_fontsize` option specifies the font size used for displaying parameter values of feedforward operations in the circuit representation.\n",
    "Adjusting this value can improve readability in the visualized circuit.\n",
    "\n",
    "### `feedforward_arrow_style`\n",
    "\n",
    "The default value is `->`.\n",
    "\n",
    "The `feedforward_arrow_style` option customizes the style of arrows used to indicate feedforward operations.\n",
    "\n",
    "### `feedforward_line_style`\n",
    "\n",
    "The default value is `-`.\n",
    "\n",
    "The `feedforward_line_style` option specifies the line style for feedforward connections.\n",
    "\n",
    "### `feedforward_arrow_color`\n",
    "\n",
    "The default value is `lightgreen`.\n",
    "\n",
    "The `feedforward_arrow_color` option specifies the color of arrows indicating feedforward operations.\n",
    "Colors can be defined in multiple formats, such as `red`, `blue`, or `green`.\n"
   ]
  },
  {
   "cell_type": "markdown",
   "metadata": {},
   "source": [
    "### Combining options\n",
    "\n",
    "Multiple options can be combined.\n",
    "For example, set\n",
    "\n",
    "* the color of measurement macronodes to `gray`,\n",
    "* the color of operation macronodes to `blue`,\n",
    "* the edge color of macronodes to get measurement results to `yellow`."
   ]
  },
  {
   "cell_type": "code",
   "execution_count": null,
   "metadata": {},
   "outputs": [],
   "source": [
    "make_figure(\n",
    "    machinery,\n",
    "    measurement_color=\"gray\",\n",
    "    operation_color=\"blue\",\n",
    "    readout_edge_color=\"yellow\",\n",
    ");"
   ]
  },
  {
   "cell_type": "markdown",
   "metadata": {},
   "source": [
    "Options are also available for the `savefig` function."
   ]
  },
  {
   "cell_type": "code",
   "execution_count": null,
   "metadata": {},
   "outputs": [],
   "source": [
    "savefig(\n",
    "    machinery,\n",
    "    \"mqc3_viz_machinery_repr.png\",\n",
    "    measurement_color=\"gray\",\n",
    "    operation_color=\"blue\",\n",
    "    readout_edge_color=\"yellow\",\n",
    ")"
   ]
  },
  {
   "cell_type": "markdown",
   "metadata": {},
   "source": [
    "## n_local_macronodes=101"
   ]
  },
  {
   "cell_type": "code",
   "execution_count": null,
   "metadata": {},
   "outputs": [],
   "source": [
    "from mqc3.client import MQC3Client, MQC3ClientResult\n",
    "from mqc3.execute import execute\n",
    "\n",
    "client = MQC3Client(n_shots=1, backend=\"emulator\")\n",
    "result = execute(graph, client)\n",
    "\n",
    "assert isinstance(result.client_result, MQC3ClientResult)\n",
    "assert result.client_result.compiled_machinery is not None\n",
    "make_figure(result.client_result.compiled_machinery);"
   ]
  }
 ],
 "metadata": {},
 "nbformat": 4,
 "nbformat_minor": 2
}
