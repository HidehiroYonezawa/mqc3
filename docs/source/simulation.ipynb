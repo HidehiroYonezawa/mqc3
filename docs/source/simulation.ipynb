{
 "cells": [
  {
   "cell_type": "markdown",
   "metadata": {},
   "source": [
    "# Simulating Circuit\n",
    "\n",
    "In this section, we will explain how to simulate quantum circuits in MQC3.\n",
    "Furthermore, we will also introduce how to visualize the quantum states in the form of Wigner functions.\n",
    "\n",
    "## Simulating circuit representation\n",
    "\n",
    "First, we create the teleportation circuit below.\n",
    "\n",
    "![teleportation](_images/circuit_repr_teleportation.svg)"
   ]
  },
  {
   "cell_type": "code",
   "execution_count": null,
   "metadata": {},
   "outputs": [],
   "source": [
    "# pyright: reportUnusedExpression=false\n",
    "\n",
    "from math import pi\n",
    "\n",
    "import numpy as np\n",
    "\n",
    "from mqc3.circuit import CircuitRepr\n",
    "from mqc3.circuit.ops.intrinsic import Displacement, Measurement\n",
    "from mqc3.circuit.ops.std import BeamSplitter\n",
    "from mqc3.circuit.state import BosonicState, GaussianState\n",
    "from mqc3.feedforward import feedforward\n",
    "\n",
    "\n",
    "# Define feedforward functions.\n",
    "@feedforward\n",
    "def displace_x(x):\n",
    "    from math import sqrt  # noqa:PLC0415\n",
    "\n",
    "    return sqrt(2) * x\n",
    "\n",
    "\n",
    "@feedforward\n",
    "def displace_p(p):\n",
    "    from math import sqrt  # noqa:PLC0415\n",
    "\n",
    "    return -sqrt(2) * p\n",
    "\n",
    "\n",
    "# Construct the teleportation circuit.\n",
    "circuit = CircuitRepr(\"teleportation\")\n",
    "circuit.Q(1, 2) | BeamSplitter(theta=pi / 4, phi=pi)\n",
    "circuit.Q(0, 1) | BeamSplitter(theta=pi / 4, phi=pi)\n",
    "# Measure modes 0 and 1.\n",
    "m0 = circuit.Q(0) | Measurement(theta=pi / 2)\n",
    "m1 = circuit.Q(1) | Measurement(theta=0)\n",
    "# Apply displacement with feedforward.\n",
    "circuit.Q(2) | Displacement(displace_x(m0), displace_p(m1))\n",
    "# Set initial states.\n",
    "coeff = np.array([1.0 + 0.0j])\n",
    "mode0_x = 3.0\n",
    "mode0_p = -1.5\n",
    "mean = np.array([mode0_x + 0.0j, mode0_p + 0.0j])\n",
    "# Set the initial state of the teleported mode.\n",
    "circuit.set_initial_state(0, BosonicState(coeff, [GaussianState(mean, GaussianState.vacuum().cov)]))\n",
    "# Set the initial states of modes 1 and 2.\n",
    "circuit.set_initial_state(1, BosonicState(coeff, [GaussianState.squeezed(r=1.5, phi=pi / 2)]))  # p-squeezed.\n",
    "circuit.set_initial_state(2, BosonicState(coeff, [GaussianState.squeezed(r=1.5, phi=0)]))  # x-squeezed.\n",
    "\n",
    "circuit"
   ]
  },
  {
   "cell_type": "markdown",
   "metadata": {},
   "source": [
    "### Visualizing the initial state modes\n",
    "\n",
    "A mode in a {py:class}`~mqc3.circuit.state.BosonicState` object can be visualized as a wigner function, using {py:mod}`~mqc3.circuit.visualize_state` module.\n",
    "This module provides the following functions.\n",
    "\n",
    "* {py:func}`~mqc3.circuit.visualize_state.meshed_wigner`: Calculate the Wigner function of a specified mode, which is discretized according to the specified mesh for quadrature variables x and p.\n",
    "* {py:func}`~mqc3.circuit.visualize_state.plot_wigner`: Plot the discretized Wigner function of a specified mode calculated by {py:func}`~mqc3.circuit.visualize_state.meshed_wigner` internally.\n",
    "\n",
    "In this section, the usage of {py:func}`~mqc3.circuit.visualize_state.plot_wigner` function is demonstrated.\n",
    "Now let's visualize the Wigner function of each mode in the circuit."
   ]
  },
  {
   "cell_type": "code",
   "execution_count": null,
   "metadata": {},
   "outputs": [],
   "source": [
    "from numpy import linspace\n",
    "\n",
    "from mqc3.circuit.visualize_state import make_wigner_figure\n",
    "\n",
    "input_mode = circuit.get_initial_state(0)\n",
    "assert isinstance(input_mode, BosonicState)\n",
    "make_wigner_figure(state=input_mode, xvec=linspace(-10, 10, 401), pvec=linspace(-10, 10, 401));"
   ]
  },
  {
   "cell_type": "code",
   "execution_count": null,
   "metadata": {},
   "outputs": [],
   "source": [
    "p_squeezed_mode = circuit.get_initial_state(1)\n",
    "assert isinstance(p_squeezed_mode, BosonicState)\n",
    "make_wigner_figure(state=p_squeezed_mode, xvec=linspace(-10, 10, 401), pvec=linspace(-10, 10, 401));"
   ]
  },
  {
   "cell_type": "code",
   "execution_count": null,
   "metadata": {},
   "outputs": [],
   "source": [
    "x_squeezed_mode = circuit.get_initial_state(2)\n",
    "assert isinstance(x_squeezed_mode, BosonicState)\n",
    "make_wigner_figure(state=x_squeezed_mode, xvec=linspace(-10, 10, 401), pvec=linspace(-10, 10, 401));"
   ]
  },
  {
   "cell_type": "markdown",
   "metadata": {},
   "source": [
    "## Configuring client\n",
    "\n",
    "To simulate a circuit using the MQC3 SDK, you must first create an instance of {py:class}`~.mqc3.client.SimulatorClient`.\n",
    "This client allows you to specify the connection endpoint, API token, simulation mode (remote or local), and other simulation parameters.\n",
    "\n",
    "````{note}\n",
    "In remote simulation mode, {py:class}`~.mqc3.client.SimulatorClient` can simulate all representations.\n",
    "In local simulation mode, {py:class}`~.mqc3.client.SimulatorClient` can simulate only circuit representations.\n",
    "````\n",
    "\n",
    "````{note}\n",
    "If simulating graph representations or machinery representation, you can configure the squeezing level of resources by setting {py:attr}`~mqc3.client.SimulatorClient.resource_squeezing_level`.\n",
    "The default value is 10.0. A higher squeezing level results in reduced noise, which is caused by the imperfection of the EPR state. See [theory](theory.md) for more details.\n",
    "````\n",
    "\n",
    "\n",
    "Let’s create a {py:class}`~.mqc3.client.SimulatorClient` instance as shown below."
   ]
  },
  {
   "cell_type": "code",
   "execution_count": null,
   "metadata": {},
   "outputs": [],
   "source": [
    "from mqc3.client import SimulatorClient, SimulatorClientResult\n",
    "\n",
    "client = SimulatorClient()"
   ]
  },
  {
   "cell_type": "markdown",
   "metadata": {},
   "source": [
    "If you simulate the circuit on a remote server, set the `remote` attribute to `True` and provide your API token via the `token` attribute.\n",
    "On the other hand, if you want to simulate locally, set the `remote` attribute to `False`.\n",
    "In this case, you do not need to set the `token`.\n",
    "\n",
    "````{note}\n",
    "To run simulations locally, you must have [Strawberry Fields](https://strawberryfields.ai) installed.\n",
    "````\n"
   ]
  },
  {
   "cell_type": "code",
   "execution_count": null,
   "metadata": {},
   "outputs": [],
   "source": [
    "# client.remote = True\n",
    "# client.token = \"YOUR_API_TOKEN\"\n",
    "\n",
    "client.remote = False"
   ]
  },
  {
   "cell_type": "markdown",
   "metadata": {},
   "source": [
    "You can specify how many times the circuit will be executed by setting the `n_shots` attribute."
   ]
  },
  {
   "cell_type": "code",
   "execution_count": null,
   "metadata": {},
   "outputs": [],
   "source": [
    "# Run the circuit for hundred times\n",
    "client.n_shots = 100"
   ]
  },
  {
   "cell_type": "markdown",
   "metadata": {},
   "source": [
    "To control whether to save the quantum states after simulation, use the `state_save_policy` attribute.  \n",
    "It accepts one of the following values: `\"none\"`, `\"first_only\"`, or `\"all\"`.\n",
    "\n",
    "- `\"none\"`: Do not save any states.\n",
    "- `\"first_only\"`: Save only the state from the first shot only.\n",
    "- `\"all\"`: Save the states from all shots.\n",
    "\n",
    "````{note}\n",
    "If the circuit does not contain any measurement operations, the simulation is **deterministic**.\n",
    "In such cases, it is recommended to set `shots=1` and `state_save_policy=\"all\"`.\n",
    "````"
   ]
  },
  {
   "cell_type": "code",
   "execution_count": null,
   "metadata": {},
   "outputs": [],
   "source": [
    "client.state_save_policy = \"all\""
   ]
  },
  {
   "cell_type": "markdown",
   "metadata": {},
   "source": [
    "## Simulating circuit\n",
    "\n",
    "You can simulate the circuit with {py:func}`~mqc3.execute.execute`.\n",
    "This function takes a circuit and a client as arguments and returns the execution result."
   ]
  },
  {
   "cell_type": "code",
   "execution_count": null,
   "metadata": {},
   "outputs": [],
   "source": [
    "from mqc3.execute import execute\n",
    "\n",
    "result = execute(circuit, client)"
   ]
  },
  {
   "cell_type": "code",
   "execution_count": null,
   "metadata": {},
   "outputs": [],
   "source": [
    "type(result.client_result)"
   ]
  },
  {
   "cell_type": "markdown",
   "metadata": {},
   "source": [
    "{py:class}`~mqc3.client.SimulatorClientResult` has the following attributes.\n",
    "\n",
    "| Attribute | Type | Description |\n",
    "| --------- | ---- | ----------- |\n",
    "| {py:attr}`~mqc3.client.SimulatorClientResult.execution_details` | {py:class}`~mqc3.client.simulator_client.ExecutionDetails` | Versions and timestamps related to a simulation. |\n",
    "| {py:attr}`~mqc3.client.SimulatorClientResult.circuit_result`   | {py:class}`~mqc3.circuit.CircuitResult` | Measurement results after circuit simulation. |\n",
    "| {py:attr}`~mqc3.client.SimulatorClientResult.graph_result`   | {py:class}`~mqc3.graph.GraphResult` | Measurement results after graph simulation. |\n",
    "| {py:attr}`~mqc3.client.SimulatorClientResult.machinery_result`   | {py:class}`~mqc3.machinery.MachineryResult` | Measurement results after machinery simulation. |\n",
    "| {py:attr}`~mqc3.client.SimulatorClientResult.states`           | list of {py:class}`~mqc3.circuit.state.BosonicState` | The quantum states after circuit simulation. If simulating a graph representation or a machinery representation, this attribute is empty. If `state_save_policy` is `\"none\"`, this list is empty. If `state_save_policy` is `\"first_only\"`, the list contains only one element. If `state_save_policy` is `\"all\"`, the list contains one state per shot. |\n",
    "| {py:attr}`~mqc3.client.SimulatorClientResult.execution_result` | {py:class}`~mqc3.circuit.CircuitResult`, {py:class}`~mqc3.graph.GraphResult` or {py:class}`~mqc3.machinery.MachineryResult` | Execution result. |\n",
    "| {py:attr}`~mqc3.client.SimulatorClientResult.wait_time` | `timedelta` or None | The waiting time until the job starts to run. |\n",
    "| {py:attr}`~mqc3.client.SimulatorClientResult.execution_time`  | `timedelta` or None | The time to execute a representation. |\n",
    "| {py:attr}`~mqc3.client.SimulatorClientResult.total_time`  | `timedelta` or None | The total time to execute a representation. |\n",
    "| {py:attr}`~mqc3.client.SimulatorClientResult.n_shots`   | `int` | The number of shots. |"
   ]
  },
  {
   "cell_type": "markdown",
   "metadata": {},
   "source": [
    "When you simulate the circuit representation, you can get the measurement result of the circuit representation for any shot by using index access."
   ]
  },
  {
   "cell_type": "code",
   "execution_count": null,
   "metadata": {},
   "outputs": [],
   "source": [
    "from pprint import pprint\n",
    "\n",
    "pprint(result[0])  # Get the 0-th shot result"
   ]
  },
  {
   "cell_type": "code",
   "execution_count": null,
   "metadata": {},
   "outputs": [],
   "source": [
    "pprint(result[1])  # Get the 1-st shot result"
   ]
  },
  {
   "cell_type": "markdown",
   "metadata": {},
   "source": [
    "You can access the quantum states after circuit simulation via {py:attr}`~mqc3.client.SimulatorClientResult.states`.\n",
    "\n",
    "In this example, the executed circuit is a teleportation circuit that transfers the state of mode 0 to mode 2.  \n",
    "We can verify whether the `mean` of mode 2 in the final state matches the initial `mean` of mode 0."
   ]
  },
  {
   "cell_type": "code",
   "execution_count": null,
   "metadata": {},
   "outputs": [],
   "source": [
    "error_threshold = 1.0\n",
    "\n",
    "assert isinstance(result.client_result, SimulatorClientResult)\n",
    "for state in result.client_result.states:\n",
    "    mean = state.get_gaussian_state(0).mean\n",
    "    cov = state.get_gaussian_state(0).cov\n",
    "    teleported_x = mean[2].real\n",
    "    teleported_p = mean[5].real\n",
    "\n",
    "    assert abs(teleported_x - mode0_x) < error_threshold\n",
    "    assert abs(teleported_p - mode0_p) < error_threshold\n",
    "\n",
    "print(\"Teleportation successful!\")"
   ]
  },
  {
   "cell_type": "markdown",
   "metadata": {},
   "source": [
    "### Visualizing the output mode\n",
    "\n",
    "To see the effect of the teleportation protocol, we visualize the Wigner function of the output mode in the first shot."
   ]
  },
  {
   "cell_type": "code",
   "execution_count": null,
   "metadata": {},
   "outputs": [],
   "source": [
    "client_result = result.client_result\n",
    "assert isinstance(client_result, SimulatorClientResult)\n",
    "final_state = client_result.states[0]\n",
    "output_mode = final_state.extract_mode(2)\n",
    "make_wigner_figure(state=output_mode, xvec=linspace(-10, 10, 401), pvec=linspace(-10, 10, 401));"
   ]
  },
  {
   "cell_type": "markdown",
   "metadata": {},
   "source": [
    "Since the initial modes 1 and 2 have finite squeezing levels, output mode 2 differs slightly and randomly from input mode 0."
   ]
  }
 ],
 "metadata": {},
 "nbformat": 4,
 "nbformat_minor": 2
}
