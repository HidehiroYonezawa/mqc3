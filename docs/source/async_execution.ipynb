{
 "cells": [
  {
   "cell_type": "markdown",
   "id": "2db6716b",
   "metadata": {},
   "source": [
    "# Executing Circuit Asynchronously\n",
    "\n",
    "MQC3 provides methods for executing a representation asynchronously.  \n",
    "{py:class}`~.mqc3.client.MQC3Client` and {py:class}`~.mqc3.client.SimulatorClient` offer APIs to achieve this.\n",
    "\n",
    "In this document, we will explain how to execute quantum circuits in a non-blocking manner.\n",
    "\n",
    "## Executing circuit representation\n",
    "\n",
    "First, we create the circuit below.\n",
    "\n",
    "![circuit](_images/circuit_repr_sample_circuit.svg)"
   ]
  },
  {
   "cell_type": "code",
   "execution_count": null,
   "id": "aaf0ac84",
   "metadata": {},
   "outputs": [],
   "source": [
    "from math import pi\n",
    "\n",
    "from mqc3.circuit import CircuitRepr\n",
    "from mqc3.circuit.ops.intrinsic import ControlledZ, Displacement, Measurement, PhaseRotation\n",
    "\n",
    "circuit = CircuitRepr(\"circuit\")\n",
    "circuit.Q(0) | PhaseRotation(phi=pi / 4) | Displacement(1, -1)\n",
    "circuit.Q(0, 1) | ControlledZ(g=1)\n",
    "circuit.Q(0) | Measurement(theta=0)\n",
    "circuit.Q(1) | Measurement(theta=pi / 2)\n",
    "\n",
    "circuit"
   ]
  },
  {
   "cell_type": "markdown",
   "id": "038a2f54",
   "metadata": {},
   "source": [
    "### Configuring client\n",
    "\n",
    "In this document, we use {py:class}`~.mqc3.client.MQC3Client`."
   ]
  },
  {
   "cell_type": "code",
   "execution_count": null,
   "id": "49abc830",
   "metadata": {},
   "outputs": [],
   "source": [
    "from mqc3.client import MQC3Client\n",
    "\n",
    "client = MQC3Client()\n",
    "client.backend = \"emulator\"\n",
    "client.n_shots = 100\n",
    "# client.token = \"YOUR_API_TOKEN\""
   ]
  },
  {
   "cell_type": "markdown",
   "id": "cd92a036",
   "metadata": {},
   "source": [
    "## Submitting circuit\n",
    "\n",
    "To submit a circuit as a job, use the {py:meth}`~.mqc3.client.MQC3Client.submit` method. This method returns a unique job ID, which you will need to retrieve the job's status and result later."
   ]
  },
  {
   "cell_type": "code",
   "execution_count": null,
   "id": "e23b53f8",
   "metadata": {},
   "outputs": [],
   "source": [
    "job_id = client.submit(circuit)\n",
    "\n",
    "job_id"
   ]
  },
  {
   "cell_type": "markdown",
   "id": "828448a8",
   "metadata": {},
   "source": [
    "## Retrieving Job Status\n",
    "\n",
    "To monitor the progress of a submitted job, call the {py:meth}`~.mqc3.client.MQC3Client.submit` method with the job's ID.\n",
    "\n",
    "The method returns a tuple with three elements: the current status string, a detailed status message (which can be empty), and a collection of execution metadata such as versions of the backend and a series `datetime` for different job stages (submission, compilation, etc.)."
   ]
  },
  {
   "cell_type": "code",
   "execution_count": null,
   "id": "3e0e4586",
   "metadata": {},
   "outputs": [],
   "source": [
    "from pprint import pprint\n",
    "\n",
    "current_status, status_detail, execution_details = client.get_job_status(job_id)\n",
    "\n",
    "print(f\"Job Status: {current_status}\")\n",
    "print(f\"Details: {status_detail}\")\n",
    "print(\"Execution Details:\")\n",
    "pprint(execution_details)"
   ]
  },
  {
   "cell_type": "markdown",
   "id": "083d2b28",
   "metadata": {},
   "source": [
    "## Waiting for Job Completion\n",
    "\n",
    "Instead of manually polling the job status yourself, you can use the {py:meth}`~.mqc3.client.MQC3Client.wait_for_completion` method. This is a blocking method that continuously polling the job's status and returns when the job reaches a terminal state such as `COMPLETED`, `FAILED`, `TIMEOUT` and `CANCELLED`.  \n",
    "The return values is same as the return values of {py:meth}`~.mqc3.client.MQC3Client.get_job_status` for the job's final state.  \n",
    "\n",
    "You can change the polling interval (in seconds) by setting the {py:attr}`~.mqc3.client.MQC3Client.polling_interval` attribute on the client object."
   ]
  },
  {
   "cell_type": "code",
   "execution_count": null,
   "id": "23f8c709",
   "metadata": {},
   "outputs": [],
   "source": [
    "final_status, status_detail, execution_details = client.wait_for_completion(job_id)\n",
    "\n",
    "print(f\"Job Status: {current_status}\")\n",
    "print(f\"Details: {status_detail}\")\n",
    "print(\"Execution Details:\")\n",
    "pprint(execution_details)"
   ]
  },
  {
   "cell_type": "markdown",
   "id": "7195bd24",
   "metadata": {},
   "source": [
    "## Retrieving Job Result\n",
    "\n",
    "After confirming that the job is Completed, you can retrieve its result using the {py:meth}`~.mqc3.client.MQC3Client.get_job_result` method. On success, it returns an instance of the {py:class}`~.mqc3.client.MQC3ClientResult` class, which contains the execution outcome.\n",
    "\n",
    "This method will raise an error under the following conditions:\n",
    "\n",
    "- The job's status is not `COMPLETED`.\n",
    "- The result cannot be retrieved due to an API error or other issues.\n",
    "\n",
    "Therefore, it is recommended to check the job's status before calling this method."
   ]
  },
  {
   "cell_type": "code",
   "execution_count": null,
   "id": "2b143ef6",
   "metadata": {},
   "outputs": [],
   "source": [
    "result = client.get_job_result(job_id)\n",
    "\n",
    "pprint(result)"
   ]
  },
  {
   "cell_type": "markdown",
   "id": "89bb9d1c",
   "metadata": {},
   "source": [
    "## Cancelling Job\n",
    "\n",
    "You can attempt to cancel a job that you have submitted using the {py:meth}`~.mqc3.client.MQC3Client.cancel_job` method.\n",
    "\n",
    "Crucially, a job can only be cancelled if its current status is `QUEUING`. Attempting to cancel a job that is already running, completed, or has failed will result in an error."
   ]
  },
  {
   "cell_type": "code",
   "execution_count": null,
   "id": "61cc308a",
   "metadata": {},
   "outputs": [],
   "source": [
    "# client.cancel_job(job_id)"
   ]
  }
 ],
 "metadata": {},
 "nbformat": 4,
 "nbformat_minor": 5
}
