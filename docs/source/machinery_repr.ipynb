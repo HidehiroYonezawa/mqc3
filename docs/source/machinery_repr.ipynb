{
 "cells": [
  {
   "cell_type": "markdown",
   "metadata": {},
   "source": [
    "# Constructing Machinery Representation\n",
    "\n",
    "In this section, we will explain how to construct quantum circuits with the \"Machinery Representation\".\n",
    "\n",
    "Machinery representation is the lowest-level representation of quantum circuits, which is constructed by specifying the following parameters.\n",
    "\n",
    "| Parameter | Setter     | Getter | Description |\n",
    "| --------- | ---------- | ------ | ----------- |\n",
    "| `n_local_macronodes` | {py:meth}`~mqc3.machinery.MachineryRepr.__init__` | {py:attr}`~mqc3.machinery.MachineryRepr.n_local_macronodes` | The number of macronodes per step. |\n",
    "| `n_steps` | {py:meth}`~mqc3.machinery.MachineryRepr.__init__` | {py:attr}`~mqc3.machinery.MachineryRepr.n_steps` | The number of steps. |\n",
    "| `readout_macronode_indices` | {py:attr}`~mqc3.machinery.MachineryRepr.readout_macronode_indices` | {py:attr}`~mqc3.machinery.MachineryRepr.readout_macronode_indices` | Set of macronode indices to get measurement results. |\n",
    "| `homodyne_angles` | {py:meth}`~mqc3.machinery.MachineryRepr.set_homodyne_angle` | {py:meth}`~mqc3.machinery.MachineryRepr.get_homodyne_angle` | List of four measurement angles in each macronode. The setter and getter handle one element at a time. |\n",
    "| `displacements_k_minus_1` | {py:meth}`~mqc3.machinery.MachineryRepr.set_displacement_k_minus_1` | {py:meth}`~mqc3.machinery.MachineryRepr.get_displacement_k_minus_1` | Displacement applied to the mode teleporting to the macronode `k` from the macronode `k - 1`. |\n",
    "| `displacements_k_minus_n` | {py:meth}`~mqc3.machinery.MachineryRepr.set_displacement_k_minus_n` | {py:meth}`~mqc3.machinery.MachineryRepr.get_displacement_k_minus_n` | Displacement applied to the mode teleporting to the macronode `k` from the macronode `k - n_local_macronodes`. |\n",
    "| `ff_coeff_matrix_k_plus_1` | {py:attr}`~mqc3.machinery.MachineryRepr.ff_coeff_matrix_k_plus_1` | {py:attr}`~mqc3.machinery.MachineryRepr.ff_coeff_matrix_k_plus_1` | Feedforward coefficient matrix from the macronode `k` to the macronode `k + 1`. |\n",
    "| `ff_coeff_matrix_k_plus_n` | {py:attr}`~mqc3.machinery.MachineryRepr.ff_coeff_matrix_k_plus_n` | {py:attr}`~mqc3.machinery.MachineryRepr.ff_coeff_matrix_k_plus_n` | Feedforward coefficient matrix from the macronode `k` to the macronode `k + n_local_macronodes`. |\n",
    "\n",
    "By default, the feedforward coefficient matrix is automatically calculated from the homodyne angles."
   ]
  },
  {
   "cell_type": "markdown",
   "metadata": {},
   "source": [
    "## Creating a machinery representation"
   ]
  },
  {
   "cell_type": "code",
   "execution_count": null,
   "metadata": {},
   "outputs": [],
   "source": [
    "from mqc3.machinery import MachineryRepr\n",
    "from mqc3.machinery.visualize import make_figure\n",
    "\n",
    "m = MachineryRepr(\n",
    "    n_local_macronodes=3,\n",
    "    n_steps=4,\n",
    ")\n",
    "\n",
    "make_figure(m, readout_edge_color=\"red\");"
   ]
  },
  {
   "cell_type": "markdown",
   "metadata": {},
   "source": [
    "### Setting macronodes to readout"
   ]
  },
  {
   "cell_type": "code",
   "execution_count": null,
   "metadata": {},
   "outputs": [],
   "source": [
    "m.readout_macronode_indices = {6, 8, 10}\n",
    "\n",
    "make_figure(m, readout_edge_color=\"red\");"
   ]
  },
  {
   "cell_type": "markdown",
   "metadata": {},
   "source": [
    "### Setting homodyne angles"
   ]
  },
  {
   "cell_type": "code",
   "execution_count": null,
   "metadata": {},
   "outputs": [],
   "source": [
    "from math import pi\n",
    "\n",
    "from mqc3.machinery.macronode_angle import MacronodeAngle\n",
    "\n",
    "m.set_homodyne_angle(4, MacronodeAngle(0, pi / 2, 0, pi / 2))\n",
    "m.set_homodyne_angle(5, MacronodeAngle(pi / 2, 0, pi / 2, 0))\n",
    "m.set_homodyne_angle(7, MacronodeAngle(0, pi / 2, 0, pi / 2))\n",
    "m.set_homodyne_angle(10, MacronodeAngle(pi / 2, pi / 2, pi / 2, pi / 2))\n",
    "\n",
    "make_figure(m, readout_edge_color=\"red\");"
   ]
  },
  {
   "cell_type": "markdown",
   "metadata": {},
   "source": [
    "### Adding displacements"
   ]
  },
  {
   "cell_type": "code",
   "execution_count": null,
   "metadata": {},
   "outputs": [],
   "source": [
    "m.set_displacement_k_minus_1(4, (1.0, -1.0))\n",
    "\n",
    "make_figure(m, readout_edge_color=\"red\");"
   ]
  },
  {
   "cell_type": "markdown",
   "metadata": {},
   "source": [
    "### Settings generation method of feedforward coefficient matrix\n",
    "\n",
    "You can specify how the feedforward coefficient matrix is generated, as shown in the code below.\n",
    "The available methods are defined in the enum class {py:class}`~mqc3.machinery.program.FFCoeffMatrixGenerationMethods`.\n",
    "\n",
    "Currently, you can choose from the following options:\n",
    "\n",
    "- `ZERO_FILLED`: Initializes the matrix with all zeros.\n",
    "- `FROM_MACRONODE_ANGLES`: Computes the matrix based on macronode measurement angles."
   ]
  },
  {
   "cell_type": "code",
   "execution_count": null,
   "metadata": {},
   "outputs": [],
   "source": [
    "from mqc3.machinery.program import FFCoeffMatrixGenerationMethods\n",
    "\n",
    "m.ff_coeff_matrix_k_plus_n.generation_methods[1] = FFCoeffMatrixGenerationMethods.ZERO_FILLED\n",
    "m.ff_coeff_matrix_k_plus_n.generation_methods[4] = FFCoeffMatrixGenerationMethods.FROM_MACRONODE_ANGLE"
   ]
  },
  {
   "cell_type": "markdown",
   "metadata": {},
   "source": [
    "### Adding feedforward\n",
    "\n",
    "Measured variables used for feedforward are created using the {py:class}`~mqc3.machinery.macronode_angle.MeasuredVariable` class.  \n",
    "This class takes two arguments:\n",
    "\n",
    "- The first argument is the **macronode index**.\n",
    "- The second argument is the **micronode index** within the macronode.\n",
    "\n",
    "The micronode index corresponds to the following labels:\n",
    "\n",
    "- `0`: micronode **a**\n",
    "- `1`: micronode **b**\n",
    "- `2`: micronode **c**\n",
    "- `3`: micronode **d**"
   ]
  },
  {
   "cell_type": "code",
   "execution_count": null,
   "metadata": {},
   "outputs": [],
   "source": [
    "from mqc3.feedforward import feedforward\n",
    "from mqc3.machinery.macronode_angle import MacronodeAngle, MeasuredVariable\n",
    "\n",
    "\n",
    "@feedforward\n",
    "def f1(x: float) -> float:\n",
    "    return x * x\n",
    "\n",
    "\n",
    "@feedforward\n",
    "def f2(x: float) -> float:\n",
    "    return x * x * x\n",
    "\n",
    "\n",
    "x = MeasuredVariable(2, 1)  # macronode 2, micronode b\n",
    "y = MeasuredVariable(3, 2)  # macronode 3, micronode c\n",
    "m.set_displacement_k_minus_n(4, (f1(x), f2(y)))\n",
    "m.set_homodyne_angle(4, MacronodeAngle(f1(x), f2(y), 0, pi / 2))\n",
    "m.set_homodyne_angle(8, MacronodeAngle(pi / 2, 0, f1(x), f2(y)))\n",
    "\n",
    "make_figure(m, readout_edge_color=\"red\");"
   ]
  },
  {
   "cell_type": "markdown",
   "metadata": {},
   "source": [
    "## Converting graph representation to machinery representation\n",
    "\n",
    "You can construct a machinery representation from a graph representation using the {py:meth}`~mqc3.machinery.MachineryRepr.from_graph_repr` method."
   ]
  },
  {
   "cell_type": "code",
   "execution_count": null,
   "metadata": {},
   "outputs": [],
   "source": [
    "from math import pi\n",
    "\n",
    "from mqc3.feedforward import feedforward\n",
    "from mqc3.graph import GraphRepr, Wiring, ops\n",
    "from mqc3.graph.constant import BLANK_MODE\n",
    "from mqc3.machinery import MachineryRepr\n",
    "\n",
    "\n",
    "@feedforward\n",
    "def add_pi(x: float) -> float:\n",
    "    from math import pi  # noqa:PLC0415\n",
    "\n",
    "    return x + pi\n",
    "\n",
    "\n",
    "@feedforward\n",
    "def square(x: float) -> float:\n",
    "    return x * x\n",
    "\n",
    "\n",
    "@feedforward\n",
    "def cube(x: float) -> float:\n",
    "    return x * x * x\n",
    "\n",
    "\n",
    "graph = GraphRepr(5, 4)\n",
    "graph.place_operation(ops.Initialization((0, 1), 0.0, (0, BLANK_MODE)))\n",
    "graph.place_operation(ops.Initialization((1, 0), 0.0, (BLANK_MODE, 1)))\n",
    "graph.place_operation(ops.Initialization((2, 0), 0.0, (BLANK_MODE, 2)))\n",
    "graph.place_operation(ops.BeamSplitter((1, 1), 0.0, 0.0, displacement_k_minus_n=(1.0, -1.0), swap=True))\n",
    "graph.place_operation(ops.TwoModeShear((2, 1), 0.0, 0.0, displacement_k_minus_1=(-1.0, 1.0), swap=True))\n",
    "graph.place_operation(ops.PhaseRotation((3, 1), pi / 2, swap=True))\n",
    "graph.place_operation(ops.Measurement((1, 2), 0.0))  # Measure mode 0\n",
    "m0 = graph.get_mode_measured_value(0)\n",
    "graph.place_operation(Wiring((2, 2), swap=True))\n",
    "graph.place_operation(ops.ControlledZ((3, 2), 0.0, swap=False))\n",
    "graph.place_operation(ops.Measurement((4, 2), 0.0))  # Measure mode 1\n",
    "m1 = graph.get_mode_measured_value(1)\n",
    "graph.place_operation(\n",
    "    ops.ShearPInvariant((3, 3), square(m0), displacement_k_minus_n=(add_pi(m0), cube(m1)), swap=True)\n",
    ")\n",
    "graph.place_operation(ops.Measurement((4, 3), 0.0))  # Measure mode 2\n",
    "\n",
    "m = MachineryRepr.from_graph_repr(graph)\n",
    "\n",
    "print(\"#local macronodes         =\", m.n_local_macronodes)\n",
    "print(\"#steps                    =\", m.n_steps)\n",
    "print(\"homodyne angles           =\", [m.get_homodyne_angle(i) for i in range(12)])\n",
    "print(\"readout_macronode_indices =\", m.readout_macronode_indices)\n",
    "print(\"displacement k-1->k       =\", m.displacements_k_minus_1)\n",
    "print(\"displacement k-N->k       =\", m.displacements_k_minus_n)\n",
    "print(\"ff coeff matrix k->k+1    = \", m.ff_coeff_matrix_k_plus_1)\n",
    "print(\"ff coeff matrix k->k+N    = \", m.ff_coeff_matrix_k_plus_n)\n",
    "\n",
    "make_figure(m, readout_edge_color=\"red\");"
   ]
  }
 ],
 "metadata": {},
 "nbformat": 4,
 "nbformat_minor": 2
}
