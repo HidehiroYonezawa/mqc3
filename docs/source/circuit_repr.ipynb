{
 "cells": [
  {
   "cell_type": "markdown",
   "metadata": {},
   "source": [
    "# Constructing Circuit Representation\n",
    "\n",
    "In this section, we explain how to construct quantum circuits with the \"Circuit Representation\".\n",
    "\n",
    "## Creating an empty circuit\n",
    "\n",
    "To construct a quantum circuit in the circuit representation, you first need to create an instance of the {py:class}`~mqc3.circuit.CircuitRepr` class.\n",
    "You can create an instance `c` with the name \"empty\" as shown below:"
   ]
  },
  {
   "cell_type": "code",
   "execution_count": null,
   "metadata": {},
   "outputs": [],
   "source": [
    "from mqc3.circuit import CircuitRepr\n",
    "\n",
    "c = CircuitRepr(\"empty\")"
   ]
  },
  {
   "cell_type": "markdown",
   "metadata": {},
   "source": [
    "The assigned name can be retrieved using the {py:attr}`~mqc3.circuit.CircuitRepr.name` property:"
   ]
  },
  {
   "cell_type": "code",
   "execution_count": null,
   "metadata": {},
   "outputs": [],
   "source": [
    "print(c.name)"
   ]
  },
  {
   "cell_type": "markdown",
   "metadata": {},
   "source": [
    "## Adding modes\n",
    "\n",
    "When a circuit instance is created, it contains no modes or gates.\n",
    "You can add modes using {py:meth}`~mqc3.circuit.CircuitRepr.Q`.\n",
    "A newly added mode is initialized in the $x$-squeezed state, which serves as an input to the machinery of MQC3, as explained in {ref}`sec:theory`."
   ]
  },
  {
   "cell_type": "code",
   "execution_count": null,
   "metadata": {},
   "outputs": [],
   "source": [
    "c = CircuitRepr(\"create_mode\")\n",
    "print(\"#modes =\", c.n_modes)\n",
    "c.Q(0)  # Create a mode 0.\n",
    "print(\"#modes =\", c.n_modes)"
   ]
  },
  {
   "cell_type": "markdown",
   "metadata": {},
   "source": [
    "Since modes are indexed starting from `0`, creating a mode with id=`N` implicitly creates modes with IDs ranging from `0` to `N-1`."
   ]
  },
  {
   "cell_type": "code",
   "execution_count": null,
   "metadata": {},
   "outputs": [],
   "source": [
    "c = CircuitRepr(\"create_modes\")\n",
    "print(\"#modes =\", c.n_modes)\n",
    "c.Q(9)  # Create a mode with id=9 implicitly creates modes with IDs 0 to 8 as well.\n",
    "print(\"#modes =\", c.n_modes)"
   ]
  },
  {
   "cell_type": "markdown",
   "metadata": {},
   "source": [
    "## Adding gates\n",
    "\n",
    "The available gates are defined in the {py:mod}`mqc3.circuit.ops.intrinsic` and {py:mod}`mqc3.circuit.ops.std` modules.\n",
    "\n",
    "* The {py:mod}`~mqc3.circuit.ops.intrinsic` module defines gates that can be executed efficiently on the machinery of MQC3.\n",
    "* The {py:mod}`~mqc3.circuit.ops.std` module provides commonly used gates in general quantum computing. These gates are implemented using intrinsic gates and are expanded into an array of intrinsic gates when the circuit is executed.\n",
    "\n",
    "You can add gates to a circuit by specifying the modes to which they apply.\n",
    "For instance, you can apply the {py:class}`~mqc3.circuit.ops.intrinsic.PhaseRotation` with $\\phi = \\pi$ to mode `0` of `c` as shown below:\n",
    "\n",
    "![single mode gate](_images/circuit_repr_single_mode_gate.svg)"
   ]
  },
  {
   "cell_type": "code",
   "execution_count": null,
   "metadata": {},
   "outputs": [],
   "source": [
    "# pyright: reportUnusedExpression=false\n",
    "\n",
    "from math import pi\n",
    "\n",
    "from mqc3.circuit.ops.intrinsic import PhaseRotation\n",
    "\n",
    "c = CircuitRepr(\"single_mode_gate\")\n",
    "c.Q(0) | PhaseRotation(phi=pi)\n",
    "\n",
    "c"
   ]
  },
  {
   "cell_type": "markdown",
   "metadata": {},
   "source": [
    "You can apply multiple gates to the same mode by chaining.\n",
    "For example,\n",
    "\n",
    "* `c.Q(0) | PhaseRotation(phi=pi / 2)` and `c.Q(0) | Displacement(1, 1)` apply two gates separately.\n",
    "* `c.Q(0) | PhaseRotation(phi=pi / 2) | Displacement(1, 1)` chains them together in a single statement.\n",
    "\n",
    "![chain of single mode gates](_images/circuit_repr_single_mode_gate_chain.svg)"
   ]
  },
  {
   "cell_type": "code",
   "execution_count": null,
   "metadata": {},
   "outputs": [],
   "source": [
    "# pyright: reportUnusedExpression=false\n",
    "\n",
    "from mqc3.circuit.ops.intrinsic import Displacement\n",
    "\n",
    "c = CircuitRepr(\"chain_of_single_mode_gates\")\n",
    "c.Q(0) | PhaseRotation(phi=pi / 2) | Displacement(1, 1)\n",
    "\n",
    "c"
   ]
  },
  {
   "cell_type": "markdown",
   "metadata": {},
   "source": [
    "For two-mode gates, you need to specify both modes (in this case, mode `0` and mode `1`):\n",
    "\n",
    "![two-mode gate](_images/circuit_repr_two_mode_gate.svg)"
   ]
  },
  {
   "cell_type": "code",
   "execution_count": null,
   "metadata": {},
   "outputs": [],
   "source": [
    "# pyright: reportUnusedExpression=false\n",
    "\n",
    "from mqc3.circuit.ops.intrinsic import ControlledZ\n",
    "\n",
    "c = CircuitRepr(\"two_mode_gate\")\n",
    "c.Q(0, 1) | ControlledZ(g=1)\n",
    "\n",
    "c"
   ]
  },
  {
   "cell_type": "markdown",
   "metadata": {},
   "source": [
    "For each mode, gates are applied in the order they are written.\n",
    "\n",
    "```{caution}\n",
    "In circuit representations, it is assumed that no operation is applied to a mode once it has been measured. The behavior is undefined if any operation is applied after {py:class}`mqc3.circuit.ops.intrinsic.Measurement` operation.\n",
    "```\n",
    "\n",
    "The following example demonstrates a circuit with multiple gates:\n",
    "\n",
    "![sample circuit](_images/circuit_repr_sample_circuit.svg)"
   ]
  },
  {
   "cell_type": "code",
   "execution_count": null,
   "metadata": {},
   "outputs": [],
   "source": [
    "# pyright: reportUnusedExpression=false\n",
    "\n",
    "from math import pi\n",
    "\n",
    "from mqc3.circuit import CircuitRepr\n",
    "from mqc3.circuit.ops.intrinsic import ControlledZ, Displacement, Measurement, PhaseRotation\n",
    "\n",
    "c = CircuitRepr(\"multiple_gates\")\n",
    "c.Q(0) | PhaseRotation(phi=pi / 4) | Displacement(1, -1)\n",
    "c.Q(0, 1) | ControlledZ(g=1)\n",
    "c.Q(0) | Measurement(theta=0)\n",
    "c.Q(1) | Measurement(theta=pi / 2)\n",
    "\n",
    "c"
   ]
  },
  {
   "cell_type": "markdown",
   "metadata": {},
   "source": [
    "You can verify the gates have been added correctly by printing the circuit information:"
   ]
  },
  {
   "cell_type": "code",
   "execution_count": null,
   "metadata": {},
   "outputs": [],
   "source": [
    "print(\"name        =\", c.name)\n",
    "print(\"#modes      =\", c.n_modes)\n",
    "print(\"#operations =\", c.n_operations)\n",
    "print(c)"
   ]
  },
  {
   "cell_type": "markdown",
   "metadata": {},
   "source": [
    "(sec:circuit-adding-feedforward)=\n",
    "\n",
    "## Adding feedforward\n",
    "\n",
    "In MQC3, the parameters of certain operations can depend on the measurement results of other modes.\n",
    "This mechanism is referred to as **feedforward** in MQC3.\n",
    "\n",
    "To use feedforward, follow these steps:\n",
    "\n",
    "1. Define a feedforward function `f` ({py:class}`~mqc3.feedforward.FeedForwardFunction`)\n",
    "    * Create a Python function that takes a float as input and returns a float.\n",
    "    * Decorate the function with {py:deco}`~mqc3.feedforward.feedforward`.\n",
    "    * **Note:** The function must be **self-contained** and able to run independently.\n",
    "        * If it depends on external modules such as `math` or `numpy`, import them **inside** the function.\n",
    "2. Obtain the measurement result variable `m` ({py:class}`~mqc3.circuit.program.MeasuredVariable`)\n",
    "3. Use the feedforwarded parameter `f(m)` as a parameter of an operation.\n",
    "\n",
    "For example, the teleportation circuit shown below can be implemented as follows:\n",
    "\n",
    "![teleportation](_images/circuit_repr_teleportation.svg)"
   ]
  },
  {
   "cell_type": "code",
   "execution_count": null,
   "metadata": {},
   "outputs": [],
   "source": [
    "# pyright: reportUnusedExpression=false\n",
    "\n",
    "from math import pi\n",
    "\n",
    "from mqc3.circuit import CircuitRepr\n",
    "from mqc3.circuit.ops.intrinsic import Displacement, Measurement\n",
    "from mqc3.circuit.ops.std import BeamSplitter\n",
    "from mqc3.feedforward import feedforward\n",
    "\n",
    "\n",
    "# Define feedforward functions.\n",
    "@feedforward\n",
    "def displace_x(x):\n",
    "    from math import sqrt  # noqa:PLC0415\n",
    "\n",
    "    return sqrt(2) * x\n",
    "\n",
    "\n",
    "@feedforward\n",
    "def displace_p(p):\n",
    "    from math import sqrt  # noqa:PLC0415\n",
    "\n",
    "    return -sqrt(2) * p\n",
    "\n",
    "\n",
    "# Construct the teleportation circuit.\n",
    "c = CircuitRepr(\"teleportation\")\n",
    "c.Q(1, 2) | BeamSplitter(theta=pi / 4, phi=pi)\n",
    "c.Q(0, 1) | BeamSplitter(theta=pi / 4, phi=pi)\n",
    "# Measure modes 0 and 1.\n",
    "m0 = c.Q(0) | Measurement(theta=pi / 2)\n",
    "m1 = c.Q(1) | Measurement(theta=0)\n",
    "# Apply displacement with feedforward.\n",
    "c.Q(2) | Displacement(displace_x(m0), displace_p(m1))\n",
    "\n",
    "c"
   ]
  },
  {
   "cell_type": "markdown",
   "metadata": {},
   "source": [
    "The created circuit can be visualized using the {py:func}`~mqc3.circuit.visualize.make_figure` function.\n",
    "For more details, see [Visualizing Circuit Representation](viz_circuit_repr.ipynb)."
   ]
  },
  {
   "cell_type": "code",
   "execution_count": null,
   "metadata": {},
   "outputs": [],
   "source": [
    "from mqc3.circuit.visualize import make_figure\n",
    "\n",
    "make_figure(c);"
   ]
  },
  {
   "cell_type": "markdown",
   "metadata": {},
   "source": [
    "## Initializing modes\n",
    "\n",
    "The {py:class}`~mqc3.client.MQC3Client` executes quantum circuits on MQC3's optical quantum computer, with the initial state being partially configurable via the specified squeezing angles.\n",
    "In contrast, the {py:class}`~mqc3.client.SimulatorClient` executes quantum circuits in a circuit representation simulator, allowing the initial state to be set freely.\n",
    "\n",
    "The initial state of a mode can be set using the {py:meth}`~mqc3.circuit.CircuitRepr.set_initial_state` method.\n",
    "For {py:class}`~mqc3.client.MQC3Client` execution, the initial state must be an instance of {py:class}`~mqc3.circuit.state.HardwareConstrainedSqueezedState` representing a squeezed state with hardware constraints.\n",
    "For {py:class}`~mqc3.client.SimulatorClient` execution, the initial state must be an instance of {py:class}`~mqc3.circuit.state.BosonicState` representing a superposition of Gaussian states ({py:class}`~mqc3.circuit.state.GaussianState`).\n",
    "For an example usage, see {ref}`sec:simulation-configuring-circuit-representation`.\n",
    "\n",
    "```{seealso}\n",
    "See {ref}`this section<sec:execution-resource-and-initialized-states>` (for {py:class}`~mqc3.client.MQC3Client` execution) and {ref}`this section<sec:simulation-resource-and-initialized-states>` (for {py:class}`~mqc3.client.SimulatorClient` execution) for initial state details.\n",
    "```"
   ]
  }
 ],
 "metadata": {},
 "nbformat": 4,
 "nbformat_minor": 2
}
