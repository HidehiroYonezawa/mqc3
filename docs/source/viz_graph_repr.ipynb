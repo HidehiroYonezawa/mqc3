{
 "cells": [
  {
   "cell_type": "markdown",
   "metadata": {},
   "source": [
    "# Visualizing Graph Representation"
   ]
  },
  {
   "cell_type": "markdown",
   "metadata": {},
   "source": [
    "For analyzing the graph representation, we can visualize the graph using `mqc3.graph.visualize` module. \n",
    "This module provides functions \n",
    "\n",
    "* `make_figure`: visualize the graph representation\n",
    "* `savefig`: save the figure of the visualized graph representation."
   ]
  },
  {
   "cell_type": "markdown",
   "metadata": {},
   "source": [
    "## Prepare a sample graph"
   ]
  },
  {
   "cell_type": "code",
   "execution_count": null,
   "metadata": {},
   "outputs": [],
   "source": [
    "from mqc3.graph import GraphRepr\n",
    "from mqc3.graph.constant import BLANK_MODE\n",
    "\n",
    "graph = GraphRepr(5, 5)"
   ]
  },
  {
   "cell_type": "code",
   "execution_count": null,
   "metadata": {},
   "outputs": [],
   "source": [
    "from math import pi\n",
    "\n",
    "from mqc3.feedforward import feedforward\n",
    "from mqc3.graph import Wiring, ops\n",
    "\n",
    "\n",
    "@feedforward\n",
    "def add_pi(x: float) -> float:\n",
    "    from math import pi  # noqa:PLC0415\n",
    "\n",
    "    return x + pi\n",
    "\n",
    "\n",
    "@feedforward\n",
    "def square(x: float) -> float:\n",
    "    return x * x\n",
    "\n",
    "\n",
    "@feedforward\n",
    "def cube(x: float) -> float:\n",
    "    return x * x * x\n",
    "\n",
    "\n",
    "graph.place_operation(ops.Initialization((0, 1), 0.0, (0, BLANK_MODE)))\n",
    "graph.place_operation(ops.Initialization((1, 0), 0.0, (BLANK_MODE, 1)))\n",
    "graph.place_operation(ops.Initialization((2, 0), 0.0, (BLANK_MODE, 2)))\n",
    "graph.place_operation(ops.BeamSplitter((1, 1), 0.0, 0.0, displacement_k_minus_n=(1.0, -1.0), swap=True))\n",
    "graph.place_operation(ops.TwoModeShear((2, 1), 0.0, 0.0, displacement_k_minus_1=(-1.0, 1.0), swap=True))\n",
    "graph.place_operation(ops.PhaseRotation((3, 1), pi / 2, swap=True))\n",
    "graph.place_operation(ops.Measurement((1, 2), 0.0))  # Measure mode 0\n",
    "m0 = graph.get_mode_measured_value(0)\n",
    "graph.place_operation(Wiring((2, 2), swap=True))\n",
    "graph.place_operation(ops.ControlledZ((3, 2), 0.0, swap=False))\n",
    "graph.place_operation(ops.Measurement((4, 2), 0.0))  # Measure mode 1\n",
    "m1 = graph.get_mode_measured_value(1)\n",
    "graph.place_operation(\n",
    "    ops.ShearPInvariant((3, 3), square(m0), displacement_k_minus_n=(add_pi(m0), cube(m1)), swap=True)\n",
    ")\n",
    "graph.place_operation(ops.Measurement((4, 3), 0.0))  # Measure mode 2"
   ]
  },
  {
   "cell_type": "markdown",
   "metadata": {},
   "source": [
    "{py:func}`~mqc3.graph.visualize.make_figure` function can be used to visualize the graph representation.\n",
    "\n",
    "The function takes the graph representation and visualize options as input and returns a {py:class}`matplotlib.figure.Figure` object which can be displayed using {py:func}`matplotlib.pyplot.show()` function."
   ]
  },
  {
   "cell_type": "code",
   "execution_count": null,
   "metadata": {},
   "outputs": [],
   "source": [
    "from mqc3.graph.visualize import make_figure\n",
    "\n",
    "make_figure(graph);"
   ]
  },
  {
   "cell_type": "markdown",
   "metadata": {},
   "source": [
    "{py:func}`~mqc3.graph.visualize.savefig` function can be used to save the graph representation as an image file."
   ]
  },
  {
   "cell_type": "code",
   "execution_count": null,
   "metadata": {},
   "outputs": [],
   "source": [
    "from mqc3.graph.visualize import savefig\n",
    "\n",
    "savefig(graph, \"mqc3_example.png\")"
   ]
  },
  {
   "cell_type": "markdown",
   "metadata": {},
   "source": [
    "## Options"
   ]
  },
  {
   "cell_type": "markdown",
   "metadata": {},
   "source": [
    "You can customize the appearance of the graph by specifying the following options."
   ]
  },
  {
   "cell_type": "markdown",
   "metadata": {},
   "source": [
    "### `title`\n",
    "\n",
    "The default value is `\"\"`.\n",
    "\n",
    "The title of the graph representation.\n",
    "If no title is specified, the graph will be displayed without a title."
   ]
  },
  {
   "cell_type": "code",
   "execution_count": null,
   "metadata": {},
   "outputs": [],
   "source": [
    "make_figure(graph, title=\"example\");"
   ]
  },
  {
   "cell_type": "markdown",
   "metadata": {},
   "source": [
    "### `scale`\n",
    "\n",
    "The default value is `2.0`.\n",
    "\n",
    "The scale of the figure size.\n",
    "If the image is low resolution, try increasing the `scale`."
   ]
  },
  {
   "cell_type": "code",
   "execution_count": null,
   "metadata": {},
   "outputs": [],
   "source": [
    "make_figure(graph, scale=3.0);"
   ]
  },
  {
   "cell_type": "markdown",
   "metadata": {},
   "source": [
    "### `fontsize`\n",
    "\n",
    "The default value is `10.0`."
   ]
  },
  {
   "cell_type": "code",
   "execution_count": null,
   "metadata": {},
   "outputs": [],
   "source": [
    "make_figure(graph, fontsize=15.0);"
   ]
  },
  {
   "cell_type": "markdown",
   "metadata": {},
   "source": [
    "### `macronode_radius`\n",
    "\n",
    "The default value is `1.0`."
   ]
  },
  {
   "cell_type": "code",
   "execution_count": null,
   "metadata": {},
   "outputs": [],
   "source": [
    "make_figure(graph, macronode_radius=2.0);"
   ]
  },
  {
   "cell_type": "markdown",
   "metadata": {},
   "source": [
    "### `macronode_edge_color`\n",
    "\n",
    "The default value is `lightgray`."
   ]
  },
  {
   "cell_type": "code",
   "execution_count": null,
   "metadata": {},
   "outputs": [],
   "source": [
    "make_figure(graph, macronode_edge_color=\"brown\");"
   ]
  },
  {
   "cell_type": "markdown",
   "metadata": {},
   "source": [
    "### `micronode_radius`\n",
    "\n",
    "The default value is `0.2`."
   ]
  },
  {
   "cell_type": "code",
   "execution_count": null,
   "metadata": {},
   "outputs": [],
   "source": [
    "make_figure(graph, micronode_radius=0.28);"
   ]
  },
  {
   "cell_type": "markdown",
   "metadata": {},
   "source": [
    "### `micronode_edge_color`\n",
    "\n",
    "The default value is `lightgray`."
   ]
  },
  {
   "cell_type": "code",
   "execution_count": null,
   "metadata": {},
   "outputs": [],
   "source": [
    "make_figure(graph, micronode_edge_color=\"brown\");"
   ]
  },
  {
   "cell_type": "markdown",
   "metadata": {},
   "source": [
    "### `highlight_macronode_edge_color`\n",
    "\n",
    "\n",
    "\n",
    "A dictionary mapping macronode edges to their highlight colors.\n",
    "Keys are tuples of two integers representing the macronode coordinate.\n",
    "Values are strings specifying the color (e.g., \"red\", \"blue\")."
   ]
  },
  {
   "cell_type": "code",
   "execution_count": null,
   "metadata": {},
   "outputs": [],
   "source": [
    "make_figure(graph, highlight_macronode_edge_color={(0, 0): \"red\", (1, 1): \"blue\"});"
   ]
  },
  {
   "cell_type": "markdown",
   "metadata": {},
   "source": [
    "### `show_op_params`\n",
    "\n",
    "The default value is `False`."
   ]
  },
  {
   "cell_type": "code",
   "execution_count": null,
   "metadata": {},
   "outputs": [],
   "source": [
    "make_figure(graph, show_op_params=True);"
   ]
  },
  {
   "cell_type": "markdown",
   "metadata": {},
   "source": [
    "### `operation_colors`\n",
    "\n",
    "### `operation_description`\n",
    "\n",
    "### `operation_params_format`\n",
    "\n",
    "### `operation_params_symbol_format`"
   ]
  },
  {
   "cell_type": "markdown",
   "metadata": {},
   "source": [
    "### `mode_none_color`\n",
    "\n",
    "The default value is `lightgray`."
   ]
  },
  {
   "cell_type": "code",
   "execution_count": null,
   "metadata": {},
   "outputs": [],
   "source": [
    "make_figure(graph, mode_none_color=\"black\");"
   ]
  },
  {
   "cell_type": "markdown",
   "metadata": {},
   "source": [
    "### `mode_none_linestyle`\n",
    "\n",
    "The default value is `:`."
   ]
  },
  {
   "cell_type": "code",
   "execution_count": null,
   "metadata": {},
   "outputs": [],
   "source": [
    "make_figure(graph, mode_none_linestyle=\"-\");"
   ]
  },
  {
   "cell_type": "markdown",
   "metadata": {},
   "source": [
    "### `mode_colors`\n",
    "\n",
    "The colors of modes. The argument should be a list of colors."
   ]
  },
  {
   "cell_type": "code",
   "execution_count": null,
   "metadata": {},
   "outputs": [],
   "source": [
    "make_figure(graph, mode_colors=[\"red\", \"green\", \"blue\"]);"
   ]
  },
  {
   "cell_type": "markdown",
   "metadata": {},
   "source": [
    "### `show_displacement`\n",
    "\n",
    "The default value is `True`."
   ]
  },
  {
   "cell_type": "code",
   "execution_count": null,
   "metadata": {},
   "outputs": [],
   "source": [
    "make_figure(graph, show_displacement=False);"
   ]
  },
  {
   "cell_type": "markdown",
   "metadata": {},
   "source": [
    "### `displacement_text_format`"
   ]
  },
  {
   "cell_type": "markdown",
   "metadata": {},
   "source": [
    "### `ignore_wiring`\n",
    "\n",
    "\n",
    "\n",
    "The default value is `False`.\n",
    "\n",
    "Graphs, especially those tailored to the MQC3 optical quantum computer, have a lot of wiring that makes the graph representation complicated.\n",
    "\n",
    "By setting `ignore_wiring=True`, you can simplify the visualized graph by ignoring columns and rows that only contain wiring connections."
   ]
  },
  {
   "cell_type": "code",
   "execution_count": null,
   "metadata": {},
   "outputs": [],
   "source": [
    "from mqc3.client import MQC3Client, MQC3ClientResult\n",
    "from mqc3.execute import execute\n",
    "\n",
    "client = MQC3Client(n_shots=1, backend=\"emulator\")\n",
    "result = execute(graph, client)\n",
    "\n",
    "assert isinstance(result.client_result, MQC3ClientResult)\n",
    "assert result.client_result.compiled_graph is not None\n",
    "make_figure(result.client_result.compiled_graph, ignore_wiring=True);"
   ]
  },
  {
   "cell_type": "markdown",
   "metadata": {},
   "source": [
    "### `show_mode_index`\n",
    "\n",
    "The default value is `False`.\n",
    "\n",
    "Controls whether mode indices are displayed."
   ]
  },
  {
   "cell_type": "code",
   "execution_count": null,
   "metadata": {},
   "outputs": [],
   "source": [
    "make_figure(graph, show_mode_index=True, ignore_wiring=True);"
   ]
  },
  {
   "cell_type": "markdown",
   "metadata": {},
   "source": [
    "### `show_feedforward`\n",
    "\n",
    "The default value is `True`.\n",
    "\n",
    "The `show_feedforward` option controls whether feedforward operations are displayed.\n",
    "\n",
    "### `show_feedforward_param_label`\n",
    "\n",
    "The default value is `True`.\n",
    "\n",
    "The `show_feedforward_param_label` option controls whether parameter values for feedforward operations are displayed in the circuit representation.\n",
    "When set to `True`, these values appear next to their corresponding operations in the visualized circuit.\n",
    "\n",
    "### `feedforward_param_fontsize`\n",
    "\n",
    "The default value is `8.0`.\n",
    "\n",
    "The `feedforward_param_fontsize` option specifies the font size used for displaying parameter values of feedforward operations in the circuit representation.\n",
    "Adjusting this value can improve readability in the visualized circuit.\n",
    "\n",
    "### `feedforward_arrow_style`\n",
    "\n",
    "The default value is `->`.\n",
    "\n",
    "The `feedforward_arrow_style` option customizes the style of arrows used to indicate feedforward operations.\n",
    "\n",
    "### `feedforward_line_style`\n",
    "\n",
    "The default value is `-`.\n",
    "\n",
    "The `feedforward_line_style` option specifies the line style for feedforward connections.\n",
    "\n",
    "### `feedforward_arrow_color`\n",
    "\n",
    "The default value is `lightgreen`.\n",
    "\n",
    "The `feedforward_arrow_color` option specifies the color of arrows indicating feedforward operations.\n",
    "Colors can be defined in multiple formats, such as `red`, `blue`, or `green`."
   ]
  },
  {
   "cell_type": "markdown",
   "metadata": {},
   "source": [
    "### Combining options\n",
    "\n",
    "Multiple options can be combined.\n",
    "For example, set\n",
    "\n",
    "* the color of the circumference of macronodes to `black`, \n",
    "* the radius of micronodes to `0.1`, and\n",
    "* the color of modes to `['red', 'blue', 'green']`."
   ]
  },
  {
   "cell_type": "code",
   "execution_count": null,
   "metadata": {},
   "outputs": [],
   "source": [
    "make_figure(\n",
    "    graph,\n",
    "    macronode_edge_color=\"black\",\n",
    "    micronode_radius=0.1,\n",
    "    mode_colors=[\"red\", \"blue\", \"green\"],\n",
    "    ignore_wiring=True,\n",
    ");"
   ]
  },
  {
   "cell_type": "markdown",
   "metadata": {},
   "source": [
    "Options are also available for the `savefig` function."
   ]
  },
  {
   "cell_type": "code",
   "execution_count": null,
   "metadata": {},
   "outputs": [],
   "source": [
    "savefig(\n",
    "    graph,\n",
    "    \"mqc3_example_large.png\",\n",
    "    macronode_edge_color=\"black\",\n",
    "    micronode_radius=0.1,\n",
    "    mode_colors=[\"red\", \"blue\", \"green\"],\n",
    "    ignore_wiring=True,\n",
    ")"
   ]
  }
 ],
 "metadata": {},
 "nbformat": 4,
 "nbformat_minor": 2
}
